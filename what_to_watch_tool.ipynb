{
  "nbformat": 4,
  "nbformat_minor": 0,
  "metadata": {
    "kernelspec": {
      "display_name": "Python 3",
      "language": "python",
      "name": "python3"
    },
    "language_info": {
      "codemirror_mode": {
        "name": "ipython",
        "version": 3
      },
      "file_extension": ".py",
      "mimetype": "text/x-python",
      "name": "python",
      "nbconvert_exporter": "python",
      "pygments_lexer": "ipython3",
      "version": "3.7.6"
    },
    "colab": {
      "name": "what_to_watch_tool.ipynb",
      "provenance": [],
      "toc_visible": true
    }
  },
  "cells": [
    {
      "cell_type": "code",
      "metadata": {
        "id": "025EMC8OARNM",
        "colab_type": "code",
        "colab": {
          "base_uri": "https://localhost:8080/",
          "height": 1000
        },
        "outputId": "7b32dc3f-bf1e-4ea8-bcc0-77b3f64deafc"
      },
      "source": [
        "import pandas as pd\n",
        "import numpy as np\n",
        "from sklearn.feature_extraction.text import CountVectorizer\n",
        "from sklearn.metrics.pairwise import cosine_similarity\n",
        "\n",
        "df = pd.read_csv(\"IMDB_movies2.csv\")\n",
        "df"
      ],
      "execution_count": 1,
      "outputs": [
        {
          "output_type": "execute_result",
          "data": {
            "text/html": [
              "<div>\n",
              "<style scoped>\n",
              "    .dataframe tbody tr th:only-of-type {\n",
              "        vertical-align: middle;\n",
              "    }\n",
              "\n",
              "    .dataframe tbody tr th {\n",
              "        vertical-align: top;\n",
              "    }\n",
              "\n",
              "    .dataframe thead th {\n",
              "        text-align: right;\n",
              "    }\n",
              "</style>\n",
              "<table border=\"1\" class=\"dataframe\">\n",
              "  <thead>\n",
              "    <tr style=\"text-align: right;\">\n",
              "      <th></th>\n",
              "      <th>imdb_title_id</th>\n",
              "      <th>title</th>\n",
              "      <th>original_title</th>\n",
              "      <th>year</th>\n",
              "      <th>date_published</th>\n",
              "      <th>genre</th>\n",
              "      <th>duration</th>\n",
              "      <th>country</th>\n",
              "      <th>language</th>\n",
              "      <th>director</th>\n",
              "      <th>writer</th>\n",
              "      <th>production_company</th>\n",
              "      <th>actors</th>\n",
              "      <th>description</th>\n",
              "      <th>avg_vote</th>\n",
              "      <th>votes</th>\n",
              "      <th>budget</th>\n",
              "      <th>usa_gross_income</th>\n",
              "      <th>worlwide_gross_income</th>\n",
              "      <th>metascore</th>\n",
              "      <th>reviews_from_users</th>\n",
              "      <th>reviews_from_critics</th>\n",
              "    </tr>\n",
              "  </thead>\n",
              "  <tbody>\n",
              "    <tr>\n",
              "      <th>0</th>\n",
              "      <td>tt0004134</td>\n",
              "      <td>Hypocrites</td>\n",
              "      <td>Hypocrites</td>\n",
              "      <td>1915</td>\n",
              "      <td>1/20/1915</td>\n",
              "      <td>Drama</td>\n",
              "      <td>54</td>\n",
              "      <td>USA</td>\n",
              "      <td>English</td>\n",
              "      <td>Lois Weber</td>\n",
              "      <td>Lois Weber</td>\n",
              "      <td>Hobart Bosworth Productions</td>\n",
              "      <td>Courtenay Foote, Myrtle Stedman, Herbert Stand...</td>\n",
              "      <td>The parallel stories of a modern preacher and ...</td>\n",
              "      <td>6.6</td>\n",
              "      <td>429</td>\n",
              "      <td>NaN</td>\n",
              "      <td>NaN</td>\n",
              "      <td>NaN</td>\n",
              "      <td>NaN</td>\n",
              "      <td>41</td>\n",
              "      <td>8.0</td>\n",
              "    </tr>\n",
              "    <tr>\n",
              "      <th>1</th>\n",
              "      <td>tt0004707</td>\n",
              "      <td>Tillie's Punctured Romance</td>\n",
              "      <td>Tillie's Punctured Romance</td>\n",
              "      <td>1914</td>\n",
              "      <td>12/21/1914</td>\n",
              "      <td>Comedy</td>\n",
              "      <td>82</td>\n",
              "      <td>USA</td>\n",
              "      <td>English</td>\n",
              "      <td>Mack Sennett, Charles Bennett</td>\n",
              "      <td>NaN</td>\n",
              "      <td>Keystone Film Company</td>\n",
              "      <td>Marie Dressler, Charles Chaplin, Mabel Normand...</td>\n",
              "      <td>A con man from the city dupes a wealthy countr...</td>\n",
              "      <td>6.3</td>\n",
              "      <td>3164</td>\n",
              "      <td>$50,000</td>\n",
              "      <td>NaN</td>\n",
              "      <td>NaN</td>\n",
              "      <td>NaN</td>\n",
              "      <td>37</td>\n",
              "      <td>18.0</td>\n",
              "    </tr>\n",
              "    <tr>\n",
              "      <th>2</th>\n",
              "      <td>tt0005078</td>\n",
              "      <td>The Cheat</td>\n",
              "      <td>The Cheat</td>\n",
              "      <td>1915</td>\n",
              "      <td>12/13/1915</td>\n",
              "      <td>Drama, Romance</td>\n",
              "      <td>59</td>\n",
              "      <td>USA</td>\n",
              "      <td>English</td>\n",
              "      <td>Cecil B. DeMille</td>\n",
              "      <td>Hector Turnbull, Jeanie Macpherson</td>\n",
              "      <td>Jesse L. Lasky Feature Play Company</td>\n",
              "      <td>Fannie Ward, Sessue Hayakawa, Jack Dean, James...</td>\n",
              "      <td>A venal, spoiled stockbroker's wife impulsivel...</td>\n",
              "      <td>6.6</td>\n",
              "      <td>2217</td>\n",
              "      <td>$17,311</td>\n",
              "      <td>NaN</td>\n",
              "      <td>NaN</td>\n",
              "      <td>NaN</td>\n",
              "      <td>38</td>\n",
              "      <td>19.0</td>\n",
              "    </tr>\n",
              "    <tr>\n",
              "      <th>3</th>\n",
              "      <td>tt0006333</td>\n",
              "      <td>20,000 Leagues Under the Sea</td>\n",
              "      <td>20,000 Leagues Under the Sea</td>\n",
              "      <td>1916</td>\n",
              "      <td>12/24/1916</td>\n",
              "      <td>Action, Adventure, Sci-Fi</td>\n",
              "      <td>105</td>\n",
              "      <td>USA</td>\n",
              "      <td>English</td>\n",
              "      <td>Stuart Paton</td>\n",
              "      <td>Jules Verne</td>\n",
              "      <td>Williamson Submarine Film Corporation</td>\n",
              "      <td>Dan Hanlon, Edna Pendleton, Curtis Benton, All...</td>\n",
              "      <td>A French professor and his daughter accompany ...</td>\n",
              "      <td>6.2</td>\n",
              "      <td>1440</td>\n",
              "      <td>$200,000</td>\n",
              "      <td>NaN</td>\n",
              "      <td>NaN</td>\n",
              "      <td>NaN</td>\n",
              "      <td>26</td>\n",
              "      <td>16.0</td>\n",
              "    </tr>\n",
              "    <tr>\n",
              "      <th>4</th>\n",
              "      <td>tt0009611</td>\n",
              "      <td>Shoulder Arms</td>\n",
              "      <td>Shoulder Arms</td>\n",
              "      <td>1918</td>\n",
              "      <td>10/27/1918</td>\n",
              "      <td>Comedy, War</td>\n",
              "      <td>45</td>\n",
              "      <td>USA</td>\n",
              "      <td>English</td>\n",
              "      <td>Charles Chaplin</td>\n",
              "      <td>Charles Chaplin</td>\n",
              "      <td>Charles Chaplin Productions</td>\n",
              "      <td>Edna Purviance, Charles Chaplin, Syd Chaplin, ...</td>\n",
              "      <td>Charlie is a boot camp private who has a dream...</td>\n",
              "      <td>7.3</td>\n",
              "      <td>5411</td>\n",
              "      <td>NaN</td>\n",
              "      <td>NaN</td>\n",
              "      <td>NaN</td>\n",
              "      <td>NaN</td>\n",
              "      <td>35</td>\n",
              "      <td>21.0</td>\n",
              "    </tr>\n",
              "    <tr>\n",
              "      <th>...</th>\n",
              "      <td>...</td>\n",
              "      <td>...</td>\n",
              "      <td>...</td>\n",
              "      <td>...</td>\n",
              "      <td>...</td>\n",
              "      <td>...</td>\n",
              "      <td>...</td>\n",
              "      <td>...</td>\n",
              "      <td>...</td>\n",
              "      <td>...</td>\n",
              "      <td>...</td>\n",
              "      <td>...</td>\n",
              "      <td>...</td>\n",
              "      <td>...</td>\n",
              "      <td>...</td>\n",
              "      <td>...</td>\n",
              "      <td>...</td>\n",
              "      <td>...</td>\n",
              "      <td>...</td>\n",
              "      <td>...</td>\n",
              "      <td>...</td>\n",
              "      <td>...</td>\n",
              "    </tr>\n",
              "    <tr>\n",
              "      <th>14062</th>\n",
              "      <td>tt9426186</td>\n",
              "      <td>Revenger</td>\n",
              "      <td>Revenger</td>\n",
              "      <td>2018</td>\n",
              "      <td>12/6/2018</td>\n",
              "      <td>Action, Crime, Thriller</td>\n",
              "      <td>101</td>\n",
              "      <td>South Korea</td>\n",
              "      <td>Korean, English</td>\n",
              "      <td>Seung-Won Lee</td>\n",
              "      <td>NaN</td>\n",
              "      <td>Green Fish Pictures</td>\n",
              "      <td>Bruce Khan, Hee-soon Park, Jin-Seo Yoon</td>\n",
              "      <td>A former police investigator decides to go to ...</td>\n",
              "      <td>5.7</td>\n",
              "      <td>2658</td>\n",
              "      <td>NaN</td>\n",
              "      <td>NaN</td>\n",
              "      <td>NaN</td>\n",
              "      <td>NaN</td>\n",
              "      <td>58</td>\n",
              "      <td>20.0</td>\n",
              "    </tr>\n",
              "    <tr>\n",
              "      <th>14063</th>\n",
              "      <td>tt9495224</td>\n",
              "      <td>Black Mirror: Bandersnatch</td>\n",
              "      <td>Black Mirror: Bandersnatch</td>\n",
              "      <td>2018</td>\n",
              "      <td>12/28/2018</td>\n",
              "      <td>Drama, Mystery, Sci-Fi</td>\n",
              "      <td>90</td>\n",
              "      <td>USA, UK</td>\n",
              "      <td>English</td>\n",
              "      <td>David Slade</td>\n",
              "      <td>Charlie Brooker</td>\n",
              "      <td>House Of Tomorrow</td>\n",
              "      <td>Fionn Whitehead, Craig Parkinson, Alice Lowe, ...</td>\n",
              "      <td>A young programmer starts to question reality ...</td>\n",
              "      <td>7.2</td>\n",
              "      <td>99095</td>\n",
              "      <td>NaN</td>\n",
              "      <td>NaN</td>\n",
              "      <td>NaN</td>\n",
              "      <td>NaN</td>\n",
              "      <td>950</td>\n",
              "      <td>90.0</td>\n",
              "    </tr>\n",
              "    <tr>\n",
              "      <th>14064</th>\n",
              "      <td>tt9664078</td>\n",
              "      <td>American Son</td>\n",
              "      <td>American Son</td>\n",
              "      <td>2019</td>\n",
              "      <td>11/1/2019</td>\n",
              "      <td>Drama</td>\n",
              "      <td>90</td>\n",
              "      <td>USA</td>\n",
              "      <td>English</td>\n",
              "      <td>Kenny Leon</td>\n",
              "      <td>Christopher Demos-Brown</td>\n",
              "      <td>Netflix</td>\n",
              "      <td>Kerry Washington, Steven Pasquale, Jeremy Jord...</td>\n",
              "      <td>An estranged couple reunite in a Florida polic...</td>\n",
              "      <td>5.7</td>\n",
              "      <td>2930</td>\n",
              "      <td>NaN</td>\n",
              "      <td>NaN</td>\n",
              "      <td>NaN</td>\n",
              "      <td>33.0</td>\n",
              "      <td>205</td>\n",
              "      <td>16.0</td>\n",
              "    </tr>\n",
              "    <tr>\n",
              "      <th>14065</th>\n",
              "      <td>tt9675464</td>\n",
              "      <td>Gang Leader</td>\n",
              "      <td>Gang Leader</td>\n",
              "      <td>2019</td>\n",
              "      <td>9/13/2019</td>\n",
              "      <td>Action, Comedy</td>\n",
              "      <td>155</td>\n",
              "      <td>India</td>\n",
              "      <td>English, Telugu</td>\n",
              "      <td>Vikram K. Kumar</td>\n",
              "      <td>Vikram K. Kumar, Mukund Pandey</td>\n",
              "      <td>Mythri Movie Makers</td>\n",
              "      <td>Nani, Kartikeya Gummakonda, Priyanka Arulmohan...</td>\n",
              "      <td>Nani plays the gang leader of five women belon...</td>\n",
              "      <td>7.7</td>\n",
              "      <td>1318</td>\n",
              "      <td>NaN</td>\n",
              "      <td>NaN</td>\n",
              "      <td>$161,321</td>\n",
              "      <td>NaN</td>\n",
              "      <td>30</td>\n",
              "      <td>3.0</td>\n",
              "    </tr>\n",
              "    <tr>\n",
              "      <th>14066</th>\n",
              "      <td>tt9860728</td>\n",
              "      <td>Falling Inn Love</td>\n",
              "      <td>Falling Inn Love</td>\n",
              "      <td>2019</td>\n",
              "      <td>8/29/2019</td>\n",
              "      <td>Comedy, Romance</td>\n",
              "      <td>98</td>\n",
              "      <td>USA</td>\n",
              "      <td>English</td>\n",
              "      <td>Roger Kumble</td>\n",
              "      <td>Elizabeth Hackett, Hilary Galanoy</td>\n",
              "      <td>NaN</td>\n",
              "      <td>Christina Milian, Adam Demos, Jeffrey Bowyer-C...</td>\n",
              "      <td>When city girl Gabriela spontaneously enters a...</td>\n",
              "      <td>5.6</td>\n",
              "      <td>9816</td>\n",
              "      <td>NaN</td>\n",
              "      <td>NaN</td>\n",
              "      <td>NaN</td>\n",
              "      <td>NaN</td>\n",
              "      <td>219</td>\n",
              "      <td>30.0</td>\n",
              "    </tr>\n",
              "  </tbody>\n",
              "</table>\n",
              "<p>14067 rows × 22 columns</p>\n",
              "</div>"
            ],
            "text/plain": [
              "      imdb_title_id  ... reviews_from_critics\n",
              "0         tt0004134  ...                  8.0\n",
              "1         tt0004707  ...                 18.0\n",
              "2         tt0005078  ...                 19.0\n",
              "3         tt0006333  ...                 16.0\n",
              "4         tt0009611  ...                 21.0\n",
              "...             ...  ...                  ...\n",
              "14062     tt9426186  ...                 20.0\n",
              "14063     tt9495224  ...                 90.0\n",
              "14064     tt9664078  ...                 16.0\n",
              "14065     tt9675464  ...                  3.0\n",
              "14066     tt9860728  ...                 30.0\n",
              "\n",
              "[14067 rows x 22 columns]"
            ]
          },
          "metadata": {
            "tags": []
          },
          "execution_count": 1
        }
      ]
    },
    {
      "cell_type": "markdown",
      "metadata": {
        "id": "3rcHmXdHARNP",
        "colab_type": "text"
      },
      "source": [
        "If you visualize the dataset, you will see that it has many extra info about a movie. We don’t need all of them. So, we choose keywords, cast, genres and director column to use as our feature set(the so called “content” of the movie)."
      ]
    },
    {
      "cell_type": "code",
      "metadata": {
        "id": "6pjm00FVDTk8",
        "colab_type": "code",
        "colab": {
          "base_uri": "https://localhost:8080/",
          "height": 426
        },
        "outputId": "7ed4122d-bebe-40a5-9638-640d84fab1c1"
      },
      "source": [
        "df = df[[\"title\", \"year\", \"genre\", \"country\", \"director\", \"writer\", \"production_company\", \"actors\", \"description\", \"avg_vote\"]]\n",
        "df.head()"
      ],
      "execution_count": 2,
      "outputs": [
        {
          "output_type": "execute_result",
          "data": {
            "text/html": [
              "<div>\n",
              "<style scoped>\n",
              "    .dataframe tbody tr th:only-of-type {\n",
              "        vertical-align: middle;\n",
              "    }\n",
              "\n",
              "    .dataframe tbody tr th {\n",
              "        vertical-align: top;\n",
              "    }\n",
              "\n",
              "    .dataframe thead th {\n",
              "        text-align: right;\n",
              "    }\n",
              "</style>\n",
              "<table border=\"1\" class=\"dataframe\">\n",
              "  <thead>\n",
              "    <tr style=\"text-align: right;\">\n",
              "      <th></th>\n",
              "      <th>title</th>\n",
              "      <th>year</th>\n",
              "      <th>genre</th>\n",
              "      <th>country</th>\n",
              "      <th>director</th>\n",
              "      <th>writer</th>\n",
              "      <th>production_company</th>\n",
              "      <th>actors</th>\n",
              "      <th>description</th>\n",
              "      <th>avg_vote</th>\n",
              "    </tr>\n",
              "  </thead>\n",
              "  <tbody>\n",
              "    <tr>\n",
              "      <th>0</th>\n",
              "      <td>Hypocrites</td>\n",
              "      <td>1915</td>\n",
              "      <td>Drama</td>\n",
              "      <td>USA</td>\n",
              "      <td>Lois Weber</td>\n",
              "      <td>Lois Weber</td>\n",
              "      <td>Hobart Bosworth Productions</td>\n",
              "      <td>Courtenay Foote, Myrtle Stedman, Herbert Stand...</td>\n",
              "      <td>The parallel stories of a modern preacher and ...</td>\n",
              "      <td>6.6</td>\n",
              "    </tr>\n",
              "    <tr>\n",
              "      <th>1</th>\n",
              "      <td>Tillie's Punctured Romance</td>\n",
              "      <td>1914</td>\n",
              "      <td>Comedy</td>\n",
              "      <td>USA</td>\n",
              "      <td>Mack Sennett, Charles Bennett</td>\n",
              "      <td>NaN</td>\n",
              "      <td>Keystone Film Company</td>\n",
              "      <td>Marie Dressler, Charles Chaplin, Mabel Normand...</td>\n",
              "      <td>A con man from the city dupes a wealthy countr...</td>\n",
              "      <td>6.3</td>\n",
              "    </tr>\n",
              "    <tr>\n",
              "      <th>2</th>\n",
              "      <td>The Cheat</td>\n",
              "      <td>1915</td>\n",
              "      <td>Drama, Romance</td>\n",
              "      <td>USA</td>\n",
              "      <td>Cecil B. DeMille</td>\n",
              "      <td>Hector Turnbull, Jeanie Macpherson</td>\n",
              "      <td>Jesse L. Lasky Feature Play Company</td>\n",
              "      <td>Fannie Ward, Sessue Hayakawa, Jack Dean, James...</td>\n",
              "      <td>A venal, spoiled stockbroker's wife impulsivel...</td>\n",
              "      <td>6.6</td>\n",
              "    </tr>\n",
              "    <tr>\n",
              "      <th>3</th>\n",
              "      <td>20,000 Leagues Under the Sea</td>\n",
              "      <td>1916</td>\n",
              "      <td>Action, Adventure, Sci-Fi</td>\n",
              "      <td>USA</td>\n",
              "      <td>Stuart Paton</td>\n",
              "      <td>Jules Verne</td>\n",
              "      <td>Williamson Submarine Film Corporation</td>\n",
              "      <td>Dan Hanlon, Edna Pendleton, Curtis Benton, All...</td>\n",
              "      <td>A French professor and his daughter accompany ...</td>\n",
              "      <td>6.2</td>\n",
              "    </tr>\n",
              "    <tr>\n",
              "      <th>4</th>\n",
              "      <td>Shoulder Arms</td>\n",
              "      <td>1918</td>\n",
              "      <td>Comedy, War</td>\n",
              "      <td>USA</td>\n",
              "      <td>Charles Chaplin</td>\n",
              "      <td>Charles Chaplin</td>\n",
              "      <td>Charles Chaplin Productions</td>\n",
              "      <td>Edna Purviance, Charles Chaplin, Syd Chaplin, ...</td>\n",
              "      <td>Charlie is a boot camp private who has a dream...</td>\n",
              "      <td>7.3</td>\n",
              "    </tr>\n",
              "  </tbody>\n",
              "</table>\n",
              "</div>"
            ],
            "text/plain": [
              "                          title  ...  avg_vote\n",
              "0                    Hypocrites  ...       6.6\n",
              "1    Tillie's Punctured Romance  ...       6.3\n",
              "2                     The Cheat  ...       6.6\n",
              "3  20,000 Leagues Under the Sea  ...       6.2\n",
              "4                 Shoulder Arms  ...       7.3\n",
              "\n",
              "[5 rows x 10 columns]"
            ]
          },
          "metadata": {
            "tags": []
          },
          "execution_count": 2
        }
      ]
    },
    {
      "cell_type": "code",
      "metadata": {
        "id": "cqRxFY0s8Qpp",
        "colab_type": "code",
        "colab": {
          "base_uri": "https://localhost:8080/",
          "height": 346
        },
        "outputId": "885aed58-c033-4ca5-fccc-b70d1b0bcea6"
      },
      "source": [
        "df['avg_vote'] = df['avg_vote'].astype(str)\n",
        "df['year'] = df['year'].astype(str)\n",
        "df['description'] = df['description'].astype(str)"
      ],
      "execution_count": 3,
      "outputs": [
        {
          "output_type": "stream",
          "text": [
            "/usr/local/lib/python3.6/dist-packages/ipykernel_launcher.py:1: SettingWithCopyWarning: \n",
            "A value is trying to be set on a copy of a slice from a DataFrame.\n",
            "Try using .loc[row_indexer,col_indexer] = value instead\n",
            "\n",
            "See the caveats in the documentation: https://pandas.pydata.org/pandas-docs/stable/user_guide/indexing.html#returning-a-view-versus-a-copy\n",
            "  \"\"\"Entry point for launching an IPython kernel.\n",
            "/usr/local/lib/python3.6/dist-packages/ipykernel_launcher.py:2: SettingWithCopyWarning: \n",
            "A value is trying to be set on a copy of a slice from a DataFrame.\n",
            "Try using .loc[row_indexer,col_indexer] = value instead\n",
            "\n",
            "See the caveats in the documentation: https://pandas.pydata.org/pandas-docs/stable/user_guide/indexing.html#returning-a-view-versus-a-copy\n",
            "  \n",
            "/usr/local/lib/python3.6/dist-packages/ipykernel_launcher.py:3: SettingWithCopyWarning: \n",
            "A value is trying to be set on a copy of a slice from a DataFrame.\n",
            "Try using .loc[row_indexer,col_indexer] = value instead\n",
            "\n",
            "See the caveats in the documentation: https://pandas.pydata.org/pandas-docs/stable/user_guide/indexing.html#returning-a-view-versus-a-copy\n",
            "  This is separate from the ipykernel package so we can avoid doing imports until\n"
          ],
          "name": "stderr"
        }
      ]
    },
    {
      "cell_type": "code",
      "metadata": {
        "id": "QNcxyqh45Tnu",
        "colab_type": "code",
        "colab": {
          "base_uri": "https://localhost:8080/",
          "height": 1000
        },
        "outputId": "436cfd00-7df1-404f-9738-b73d14e9cb72"
      },
      "source": [
        "from nltk.corpus import stopwords\n",
        "stop = stopwords.words('english')\n",
        "stop.append('A')\n",
        "stop.append('The')\n",
        "df['keywords'] = df['description'].apply(lambda x: ' '.join([word for word in x.split() if word not in (stop)]))\n",
        "df"
      ],
      "execution_count": 4,
      "outputs": [
        {
          "output_type": "stream",
          "text": [
            "/usr/local/lib/python3.6/dist-packages/ipykernel_launcher.py:5: SettingWithCopyWarning: \n",
            "A value is trying to be set on a copy of a slice from a DataFrame.\n",
            "Try using .loc[row_indexer,col_indexer] = value instead\n",
            "\n",
            "See the caveats in the documentation: https://pandas.pydata.org/pandas-docs/stable/user_guide/indexing.html#returning-a-view-versus-a-copy\n",
            "  \"\"\"\n"
          ],
          "name": "stderr"
        },
        {
          "output_type": "execute_result",
          "data": {
            "text/html": [
              "<div>\n",
              "<style scoped>\n",
              "    .dataframe tbody tr th:only-of-type {\n",
              "        vertical-align: middle;\n",
              "    }\n",
              "\n",
              "    .dataframe tbody tr th {\n",
              "        vertical-align: top;\n",
              "    }\n",
              "\n",
              "    .dataframe thead th {\n",
              "        text-align: right;\n",
              "    }\n",
              "</style>\n",
              "<table border=\"1\" class=\"dataframe\">\n",
              "  <thead>\n",
              "    <tr style=\"text-align: right;\">\n",
              "      <th></th>\n",
              "      <th>title</th>\n",
              "      <th>year</th>\n",
              "      <th>genre</th>\n",
              "      <th>country</th>\n",
              "      <th>director</th>\n",
              "      <th>writer</th>\n",
              "      <th>production_company</th>\n",
              "      <th>actors</th>\n",
              "      <th>description</th>\n",
              "      <th>avg_vote</th>\n",
              "      <th>keywords</th>\n",
              "    </tr>\n",
              "  </thead>\n",
              "  <tbody>\n",
              "    <tr>\n",
              "      <th>0</th>\n",
              "      <td>Hypocrites</td>\n",
              "      <td>1915</td>\n",
              "      <td>Drama</td>\n",
              "      <td>USA</td>\n",
              "      <td>Lois Weber</td>\n",
              "      <td>Lois Weber</td>\n",
              "      <td>Hobart Bosworth Productions</td>\n",
              "      <td>Courtenay Foote, Myrtle Stedman, Herbert Stand...</td>\n",
              "      <td>The parallel stories of a modern preacher and ...</td>\n",
              "      <td>6.6</td>\n",
              "      <td>parallel stories modern preacher medieval monk...</td>\n",
              "    </tr>\n",
              "    <tr>\n",
              "      <th>1</th>\n",
              "      <td>Tillie's Punctured Romance</td>\n",
              "      <td>1914</td>\n",
              "      <td>Comedy</td>\n",
              "      <td>USA</td>\n",
              "      <td>Mack Sennett, Charles Bennett</td>\n",
              "      <td>NaN</td>\n",
              "      <td>Keystone Film Company</td>\n",
              "      <td>Marie Dressler, Charles Chaplin, Mabel Normand...</td>\n",
              "      <td>A con man from the city dupes a wealthy countr...</td>\n",
              "      <td>6.3</td>\n",
              "      <td>con man city dupes wealthy country girl marriage.</td>\n",
              "    </tr>\n",
              "    <tr>\n",
              "      <th>2</th>\n",
              "      <td>The Cheat</td>\n",
              "      <td>1915</td>\n",
              "      <td>Drama, Romance</td>\n",
              "      <td>USA</td>\n",
              "      <td>Cecil B. DeMille</td>\n",
              "      <td>Hector Turnbull, Jeanie Macpherson</td>\n",
              "      <td>Jesse L. Lasky Feature Play Company</td>\n",
              "      <td>Fannie Ward, Sessue Hayakawa, Jack Dean, James...</td>\n",
              "      <td>A venal, spoiled stockbroker's wife impulsivel...</td>\n",
              "      <td>6.6</td>\n",
              "      <td>venal, spoiled stockbroker's wife impulsively ...</td>\n",
              "    </tr>\n",
              "    <tr>\n",
              "      <th>3</th>\n",
              "      <td>20,000 Leagues Under the Sea</td>\n",
              "      <td>1916</td>\n",
              "      <td>Action, Adventure, Sci-Fi</td>\n",
              "      <td>USA</td>\n",
              "      <td>Stuart Paton</td>\n",
              "      <td>Jules Verne</td>\n",
              "      <td>Williamson Submarine Film Corporation</td>\n",
              "      <td>Dan Hanlon, Edna Pendleton, Curtis Benton, All...</td>\n",
              "      <td>A French professor and his daughter accompany ...</td>\n",
              "      <td>6.2</td>\n",
              "      <td>French professor daughter accompany Captain Ne...</td>\n",
              "    </tr>\n",
              "    <tr>\n",
              "      <th>4</th>\n",
              "      <td>Shoulder Arms</td>\n",
              "      <td>1918</td>\n",
              "      <td>Comedy, War</td>\n",
              "      <td>USA</td>\n",
              "      <td>Charles Chaplin</td>\n",
              "      <td>Charles Chaplin</td>\n",
              "      <td>Charles Chaplin Productions</td>\n",
              "      <td>Edna Purviance, Charles Chaplin, Syd Chaplin, ...</td>\n",
              "      <td>Charlie is a boot camp private who has a dream...</td>\n",
              "      <td>7.3</td>\n",
              "      <td>Charlie boot camp private dream hero goes dari...</td>\n",
              "    </tr>\n",
              "    <tr>\n",
              "      <th>...</th>\n",
              "      <td>...</td>\n",
              "      <td>...</td>\n",
              "      <td>...</td>\n",
              "      <td>...</td>\n",
              "      <td>...</td>\n",
              "      <td>...</td>\n",
              "      <td>...</td>\n",
              "      <td>...</td>\n",
              "      <td>...</td>\n",
              "      <td>...</td>\n",
              "      <td>...</td>\n",
              "    </tr>\n",
              "    <tr>\n",
              "      <th>14062</th>\n",
              "      <td>Revenger</td>\n",
              "      <td>2018</td>\n",
              "      <td>Action, Crime, Thriller</td>\n",
              "      <td>South Korea</td>\n",
              "      <td>Seung-Won Lee</td>\n",
              "      <td>NaN</td>\n",
              "      <td>Green Fish Pictures</td>\n",
              "      <td>Bruce Khan, Hee-soon Park, Jin-Seo Yoon</td>\n",
              "      <td>A former police investigator decides to go to ...</td>\n",
              "      <td>5.7</td>\n",
              "      <td>former police investigator decides go prison i...</td>\n",
              "    </tr>\n",
              "    <tr>\n",
              "      <th>14063</th>\n",
              "      <td>Black Mirror: Bandersnatch</td>\n",
              "      <td>2018</td>\n",
              "      <td>Drama, Mystery, Sci-Fi</td>\n",
              "      <td>USA, UK</td>\n",
              "      <td>David Slade</td>\n",
              "      <td>Charlie Brooker</td>\n",
              "      <td>House Of Tomorrow</td>\n",
              "      <td>Fionn Whitehead, Craig Parkinson, Alice Lowe, ...</td>\n",
              "      <td>A young programmer starts to question reality ...</td>\n",
              "      <td>7.2</td>\n",
              "      <td>young programmer starts question reality adapt...</td>\n",
              "    </tr>\n",
              "    <tr>\n",
              "      <th>14064</th>\n",
              "      <td>American Son</td>\n",
              "      <td>2019</td>\n",
              "      <td>Drama</td>\n",
              "      <td>USA</td>\n",
              "      <td>Kenny Leon</td>\n",
              "      <td>Christopher Demos-Brown</td>\n",
              "      <td>Netflix</td>\n",
              "      <td>Kerry Washington, Steven Pasquale, Jeremy Jord...</td>\n",
              "      <td>An estranged couple reunite in a Florida polic...</td>\n",
              "      <td>5.7</td>\n",
              "      <td>An estranged couple reunite Florida police sta...</td>\n",
              "    </tr>\n",
              "    <tr>\n",
              "      <th>14065</th>\n",
              "      <td>Gang Leader</td>\n",
              "      <td>2019</td>\n",
              "      <td>Action, Comedy</td>\n",
              "      <td>India</td>\n",
              "      <td>Vikram K. Kumar</td>\n",
              "      <td>Vikram K. Kumar, Mukund Pandey</td>\n",
              "      <td>Mythri Movie Makers</td>\n",
              "      <td>Nani, Kartikeya Gummakonda, Priyanka Arulmohan...</td>\n",
              "      <td>Nani plays the gang leader of five women belon...</td>\n",
              "      <td>7.7</td>\n",
              "      <td>Nani plays gang leader five women belonging di...</td>\n",
              "    </tr>\n",
              "    <tr>\n",
              "      <th>14066</th>\n",
              "      <td>Falling Inn Love</td>\n",
              "      <td>2019</td>\n",
              "      <td>Comedy, Romance</td>\n",
              "      <td>USA</td>\n",
              "      <td>Roger Kumble</td>\n",
              "      <td>Elizabeth Hackett, Hilary Galanoy</td>\n",
              "      <td>NaN</td>\n",
              "      <td>Christina Milian, Adam Demos, Jeffrey Bowyer-C...</td>\n",
              "      <td>When city girl Gabriela spontaneously enters a...</td>\n",
              "      <td>5.6</td>\n",
              "      <td>When city girl Gabriela spontaneously enters c...</td>\n",
              "    </tr>\n",
              "  </tbody>\n",
              "</table>\n",
              "<p>14067 rows × 11 columns</p>\n",
              "</div>"
            ],
            "text/plain": [
              "                              title  ...                                           keywords\n",
              "0                        Hypocrites  ...  parallel stories modern preacher medieval monk...\n",
              "1        Tillie's Punctured Romance  ...  con man city dupes wealthy country girl marriage.\n",
              "2                         The Cheat  ...  venal, spoiled stockbroker's wife impulsively ...\n",
              "3      20,000 Leagues Under the Sea  ...  French professor daughter accompany Captain Ne...\n",
              "4                     Shoulder Arms  ...  Charlie boot camp private dream hero goes dari...\n",
              "...                             ...  ...                                                ...\n",
              "14062                      Revenger  ...  former police investigator decides go prison i...\n",
              "14063    Black Mirror: Bandersnatch  ...  young programmer starts question reality adapt...\n",
              "14064                  American Son  ...  An estranged couple reunite Florida police sta...\n",
              "14065                   Gang Leader  ...  Nani plays gang leader five women belonging di...\n",
              "14066              Falling Inn Love  ...  When city girl Gabriela spontaneously enters c...\n",
              "\n",
              "[14067 rows x 11 columns]"
            ]
          },
          "metadata": {
            "tags": []
          },
          "execution_count": 4
        }
      ]
    },
    {
      "cell_type": "code",
      "metadata": {
        "id": "qSWphDNtDk7K",
        "colab_type": "code",
        "colab": {
          "base_uri": "https://localhost:8080/",
          "height": 223
        },
        "outputId": "8cf2eefc-41fc-44f9-8b03-40cecd93cba8"
      },
      "source": [
        "df.dtypes"
      ],
      "execution_count": 5,
      "outputs": [
        {
          "output_type": "execute_result",
          "data": {
            "text/plain": [
              "title                 object\n",
              "year                  object\n",
              "genre                 object\n",
              "country               object\n",
              "director              object\n",
              "writer                object\n",
              "production_company    object\n",
              "actors                object\n",
              "description           object\n",
              "avg_vote              object\n",
              "keywords              object\n",
              "dtype: object"
            ]
          },
          "metadata": {
            "tags": []
          },
          "execution_count": 5
        }
      ]
    },
    {
      "cell_type": "code",
      "metadata": {
        "id": "ijCEdYkPARNn",
        "colab_type": "code",
        "colab": {}
      },
      "source": [
        "features = ['director', 'year', 'genre', 'keywords', 'production_company']"
      ],
      "execution_count": 6,
      "outputs": []
    },
    {
      "cell_type": "markdown",
      "metadata": {
        "id": "SavW6ZawARNt",
        "colab_type": "text"
      },
      "source": [
        "Our next task is to create a function for combining the values of these columns into a single string."
      ]
    },
    {
      "cell_type": "code",
      "metadata": {
        "id": "skiTq0W_ARNt",
        "colab_type": "code",
        "colab": {}
      },
      "source": [
        "def combine_features(row):\n",
        "    return row['director']+\" \"+row['year']+\" \"+row['genre']+\" \"+row['keywords']+\" \"+row['production_company']"
      ],
      "execution_count": 7,
      "outputs": []
    },
    {
      "cell_type": "markdown",
      "metadata": {
        "id": "KetprQeaARNw",
        "colab_type": "text"
      },
      "source": [
        "Now, we need to call this function over each row of our dataframe. But, before doing that, we need to clean and preprocess the data for our use. We will fill all the NaN values with blank string in the dataframe."
      ]
    },
    {
      "cell_type": "code",
      "metadata": {
        "id": "IZI7KihzARNx",
        "colab_type": "code",
        "colab": {
          "base_uri": "https://localhost:8080/",
          "height": 243
        },
        "outputId": "d16ba426-0bd7-4820-9520-aa29dd3a9d10"
      },
      "source": [
        "for feature in features:\n",
        "    df[feature] = df[feature].fillna('') #filling all NaNs with blank string\n",
        "\n",
        "df[\"combined_features\"] = df.apply(combine_features,axis=1) #applying combined_features() method over each rows of dataframe and storing the combined string in \"combined_features\" column\n"
      ],
      "execution_count": 8,
      "outputs": [
        {
          "output_type": "stream",
          "text": [
            "/usr/local/lib/python3.6/dist-packages/ipykernel_launcher.py:2: SettingWithCopyWarning: \n",
            "A value is trying to be set on a copy of a slice from a DataFrame.\n",
            "Try using .loc[row_indexer,col_indexer] = value instead\n",
            "\n",
            "See the caveats in the documentation: https://pandas.pydata.org/pandas-docs/stable/user_guide/indexing.html#returning-a-view-versus-a-copy\n",
            "  \n",
            "/usr/local/lib/python3.6/dist-packages/ipykernel_launcher.py:4: SettingWithCopyWarning: \n",
            "A value is trying to be set on a copy of a slice from a DataFrame.\n",
            "Try using .loc[row_indexer,col_indexer] = value instead\n",
            "\n",
            "See the caveats in the documentation: https://pandas.pydata.org/pandas-docs/stable/user_guide/indexing.html#returning-a-view-versus-a-copy\n",
            "  after removing the cwd from sys.path.\n"
          ],
          "name": "stderr"
        }
      ]
    },
    {
      "cell_type": "code",
      "metadata": {
        "id": "rgSzT0_vARN3",
        "colab_type": "code",
        "colab": {
          "base_uri": "https://localhost:8080/",
          "height": 52
        },
        "outputId": "5995cffc-b646-4390-c2fe-7f034724560a"
      },
      "source": [
        "df.iloc[0].combined_features"
      ],
      "execution_count": 9,
      "outputs": [
        {
          "output_type": "execute_result",
          "data": {
            "application/vnd.google.colaboratory.intrinsic+json": {
              "type": "string"
            },
            "text/plain": [
              "'Lois Weber 1915 Drama parallel stories modern preacher medieval monk, Gabriel Ascetic, killed ignorant mob making nude statue representing Truth, also represented ghostly naked girl flits throughout film. Hobart Bosworth Productions'"
            ]
          },
          "metadata": {
            "tags": []
          },
          "execution_count": 9
        }
      ]
    },
    {
      "cell_type": "markdown",
      "metadata": {
        "id": "Yl2j0Uc4ARN8",
        "colab_type": "text"
      },
      "source": [
        "Now that we have obtained the combined strings, we can now feed these strings to a CountVectorizer() object for getting the count matrix."
      ]
    },
    {
      "cell_type": "code",
      "metadata": {
        "id": "z2ok3D6jARN9",
        "colab_type": "code",
        "colab": {
          "base_uri": "https://localhost:8080/",
          "height": 51
        },
        "outputId": "14966d9c-b929-43ce-d176-40a501fb33c7"
      },
      "source": [
        "cv = CountVectorizer() #creating new CountVectorizer() object\n",
        "count_matrix = cv.fit_transform(df[\"combined_features\"]) #feeding combined strings(movie contents) to CountVectorizer() object\n",
        "count_matrix"
      ],
      "execution_count": 10,
      "outputs": [
        {
          "output_type": "execute_result",
          "data": {
            "text/plain": [
              "<14067x29655 sparse matrix of type '<class 'numpy.int64'>'\n",
              "\twith 328533 stored elements in Compressed Sparse Row format>"
            ]
          },
          "metadata": {
            "tags": []
          },
          "execution_count": 10
        }
      ]
    },
    {
      "cell_type": "markdown",
      "metadata": {
        "id": "KWdYsvxUAROA",
        "colab_type": "text"
      },
      "source": [
        "At this point, 60% work is done. Now, we need to obtain the cosine similarity matrix from the count matrix."
      ]
    },
    {
      "cell_type": "code",
      "metadata": {
        "id": "v2TAw4ejAROA",
        "colab_type": "code",
        "colab": {}
      },
      "source": [
        "cosine_sim = cosine_similarity(count_matrix)"
      ],
      "execution_count": 11,
      "outputs": []
    },
    {
      "cell_type": "markdown",
      "metadata": {
        "id": "FJh6O8ksAROI",
        "colab_type": "text"
      },
      "source": [
        "Now, we will define two helper functions to get movie title from movie index and vice-versa."
      ]
    },
    {
      "cell_type": "code",
      "metadata": {
        "id": "jTWMRMNrAROJ",
        "colab_type": "code",
        "colab": {
          "base_uri": "https://localhost:8080/",
          "height": 686
        },
        "outputId": "eafd16f7-31b2-4a1c-f54a-4d70249ebb28"
      },
      "source": [
        "df = df.reset_index()\n",
        "df.head()"
      ],
      "execution_count": 12,
      "outputs": [
        {
          "output_type": "execute_result",
          "data": {
            "text/html": [
              "<div>\n",
              "<style scoped>\n",
              "    .dataframe tbody tr th:only-of-type {\n",
              "        vertical-align: middle;\n",
              "    }\n",
              "\n",
              "    .dataframe tbody tr th {\n",
              "        vertical-align: top;\n",
              "    }\n",
              "\n",
              "    .dataframe thead th {\n",
              "        text-align: right;\n",
              "    }\n",
              "</style>\n",
              "<table border=\"1\" class=\"dataframe\">\n",
              "  <thead>\n",
              "    <tr style=\"text-align: right;\">\n",
              "      <th></th>\n",
              "      <th>index</th>\n",
              "      <th>title</th>\n",
              "      <th>year</th>\n",
              "      <th>genre</th>\n",
              "      <th>country</th>\n",
              "      <th>director</th>\n",
              "      <th>writer</th>\n",
              "      <th>production_company</th>\n",
              "      <th>actors</th>\n",
              "      <th>description</th>\n",
              "      <th>avg_vote</th>\n",
              "      <th>keywords</th>\n",
              "      <th>combined_features</th>\n",
              "    </tr>\n",
              "  </thead>\n",
              "  <tbody>\n",
              "    <tr>\n",
              "      <th>0</th>\n",
              "      <td>0</td>\n",
              "      <td>Hypocrites</td>\n",
              "      <td>1915</td>\n",
              "      <td>Drama</td>\n",
              "      <td>USA</td>\n",
              "      <td>Lois Weber</td>\n",
              "      <td>Lois Weber</td>\n",
              "      <td>Hobart Bosworth Productions</td>\n",
              "      <td>Courtenay Foote, Myrtle Stedman, Herbert Stand...</td>\n",
              "      <td>The parallel stories of a modern preacher and ...</td>\n",
              "      <td>6.6</td>\n",
              "      <td>parallel stories modern preacher medieval monk...</td>\n",
              "      <td>Lois Weber 1915 Drama parallel stories modern ...</td>\n",
              "    </tr>\n",
              "    <tr>\n",
              "      <th>1</th>\n",
              "      <td>1</td>\n",
              "      <td>Tillie's Punctured Romance</td>\n",
              "      <td>1914</td>\n",
              "      <td>Comedy</td>\n",
              "      <td>USA</td>\n",
              "      <td>Mack Sennett, Charles Bennett</td>\n",
              "      <td>NaN</td>\n",
              "      <td>Keystone Film Company</td>\n",
              "      <td>Marie Dressler, Charles Chaplin, Mabel Normand...</td>\n",
              "      <td>A con man from the city dupes a wealthy countr...</td>\n",
              "      <td>6.3</td>\n",
              "      <td>con man city dupes wealthy country girl marriage.</td>\n",
              "      <td>Mack Sennett, Charles Bennett 1914 Comedy con ...</td>\n",
              "    </tr>\n",
              "    <tr>\n",
              "      <th>2</th>\n",
              "      <td>2</td>\n",
              "      <td>The Cheat</td>\n",
              "      <td>1915</td>\n",
              "      <td>Drama, Romance</td>\n",
              "      <td>USA</td>\n",
              "      <td>Cecil B. DeMille</td>\n",
              "      <td>Hector Turnbull, Jeanie Macpherson</td>\n",
              "      <td>Jesse L. Lasky Feature Play Company</td>\n",
              "      <td>Fannie Ward, Sessue Hayakawa, Jack Dean, James...</td>\n",
              "      <td>A venal, spoiled stockbroker's wife impulsivel...</td>\n",
              "      <td>6.6</td>\n",
              "      <td>venal, spoiled stockbroker's wife impulsively ...</td>\n",
              "      <td>Cecil B. DeMille 1915 Drama, Romance venal, sp...</td>\n",
              "    </tr>\n",
              "    <tr>\n",
              "      <th>3</th>\n",
              "      <td>3</td>\n",
              "      <td>20,000 Leagues Under the Sea</td>\n",
              "      <td>1916</td>\n",
              "      <td>Action, Adventure, Sci-Fi</td>\n",
              "      <td>USA</td>\n",
              "      <td>Stuart Paton</td>\n",
              "      <td>Jules Verne</td>\n",
              "      <td>Williamson Submarine Film Corporation</td>\n",
              "      <td>Dan Hanlon, Edna Pendleton, Curtis Benton, All...</td>\n",
              "      <td>A French professor and his daughter accompany ...</td>\n",
              "      <td>6.2</td>\n",
              "      <td>French professor daughter accompany Captain Ne...</td>\n",
              "      <td>Stuart Paton 1916 Action, Adventure, Sci-Fi Fr...</td>\n",
              "    </tr>\n",
              "    <tr>\n",
              "      <th>4</th>\n",
              "      <td>4</td>\n",
              "      <td>Shoulder Arms</td>\n",
              "      <td>1918</td>\n",
              "      <td>Comedy, War</td>\n",
              "      <td>USA</td>\n",
              "      <td>Charles Chaplin</td>\n",
              "      <td>Charles Chaplin</td>\n",
              "      <td>Charles Chaplin Productions</td>\n",
              "      <td>Edna Purviance, Charles Chaplin, Syd Chaplin, ...</td>\n",
              "      <td>Charlie is a boot camp private who has a dream...</td>\n",
              "      <td>7.3</td>\n",
              "      <td>Charlie boot camp private dream hero goes dari...</td>\n",
              "      <td>Charles Chaplin 1918 Comedy, War Charlie boot ...</td>\n",
              "    </tr>\n",
              "  </tbody>\n",
              "</table>\n",
              "</div>"
            ],
            "text/plain": [
              "   index  ...                                  combined_features\n",
              "0      0  ...  Lois Weber 1915 Drama parallel stories modern ...\n",
              "1      1  ...  Mack Sennett, Charles Bennett 1914 Comedy con ...\n",
              "2      2  ...  Cecil B. DeMille 1915 Drama, Romance venal, sp...\n",
              "3      3  ...  Stuart Paton 1916 Action, Adventure, Sci-Fi Fr...\n",
              "4      4  ...  Charles Chaplin 1918 Comedy, War Charlie boot ...\n",
              "\n",
              "[5 rows x 13 columns]"
            ]
          },
          "metadata": {
            "tags": []
          },
          "execution_count": 12
        }
      ]
    },
    {
      "cell_type": "code",
      "metadata": {
        "id": "PxpAov8bAROO",
        "colab_type": "code",
        "colab": {}
      },
      "source": [
        "def get_title_from_index(index):\n",
        "    return df[df.index == index][\"title\"].values[0]\n",
        "def get_index_from_title(title):\n",
        "    return df[df.title == title][\"index\"].values[0]"
      ],
      "execution_count": 13,
      "outputs": []
    },
    {
      "cell_type": "markdown",
      "metadata": {
        "id": "e4Joel0tAROQ",
        "colab_type": "text"
      },
      "source": [
        "Our next step is to get the title of the movie that the user currently likes. Then we will find the index of that movie. After that, we will access the row corresponding to this movie in the similarity matrix. Thus, we will get the similarity scores of all other movies from the current movie. Then we will enumerate through all the similarity scores of that movie to make a tuple of movie index and similarity score. This will convert a row of similarity scores like this- `[1 0.5 0.2 0.9]` to this- `[(0, 1) (1, 0.5) (2, 0.2) (3, 0.9)]` . Here, each item is in this form- (movie index, similarity score)."
      ]
    },
    {
      "cell_type": "code",
      "metadata": {
        "id": "J5qk4otlAROR",
        "colab_type": "code",
        "colab": {}
      },
      "source": [
        "movie_user_likes = \"Bedknobs and Broomsticks\"\n",
        "movie_index = get_index_from_title(movie_user_likes)\n",
        "similar_movies = list(enumerate(cosine_sim[movie_index])) #accessing the row corresponding to given movie to find all the similarity scores for that movie and then enumerating over it"
      ],
      "execution_count": 35,
      "outputs": []
    },
    {
      "cell_type": "markdown",
      "metadata": {
        "id": "pAmJwKzxAROT",
        "colab_type": "text"
      },
      "source": [
        "\n",
        "Now comes the most vital point. We will sort the list `similar_movies` according to similarity scores in descending order. Since the most similar movie to a given movie will be itself, we will discard the first element after sorting the movies."
      ]
    },
    {
      "cell_type": "code",
      "metadata": {
        "id": "ZPAWqvA6AROT",
        "colab_type": "code",
        "colab": {}
      },
      "source": [
        "sorted_similar_movies = sorted(similar_movies,key=lambda x:x[1],reverse=True)[1:]"
      ],
      "execution_count": 36,
      "outputs": []
    },
    {
      "cell_type": "markdown",
      "metadata": {
        "id": "yKP9C7KxAROZ",
        "colab_type": "text"
      },
      "source": [
        "Now, we will run a loop to print first 5 entries from `sorted_similar_movies` list."
      ]
    },
    {
      "cell_type": "code",
      "metadata": {
        "id": "IegmnFF1AROd",
        "colab_type": "code",
        "colab": {
          "base_uri": "https://localhost:8080/",
          "height": 154
        },
        "outputId": "edc1faae-c260-4601-b436-475743de752f"
      },
      "source": [
        "i=0\n",
        "print(\"Top 5 similar movies to \"+movie_user_likes+\" are:\\n\")\n",
        "for element in sorted_similar_movies:\n",
        "    print(get_title_from_index(element[0]))\n",
        "    i=i+1\n",
        "    if i>5:\n",
        "        break"
      ],
      "execution_count": 37,
      "outputs": [
        {
          "output_type": "stream",
          "text": [
            "Top 5 similar movies to Bedknobs and Broomsticks are:\n",
            "\n",
            "Pete's Dragon\n",
            "Robin Hood\n",
            "The Rescuers\n",
            "The Love Bug\n",
            "The Island at the Top of the World\n",
            "Mary Poppins\n"
          ],
          "name": "stdout"
        }
      ]
    },
    {
      "cell_type": "code",
      "metadata": {
        "id": "ovV_q_4s2P3e",
        "colab_type": "code",
        "colab": {}
      },
      "source": [
        ""
      ],
      "execution_count": 16,
      "outputs": []
    }
  ]
}