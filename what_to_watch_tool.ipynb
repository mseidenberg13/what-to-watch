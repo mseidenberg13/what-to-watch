{
 "cells": [
  {
   "cell_type": "code",
   "execution_count": 5,
   "metadata": {
    "colab": {
     "base_uri": "https://localhost:8080/",
     "height": 686
    },
    "colab_type": "code",
    "id": "025EMC8OARNM",
    "outputId": "cd0e7564-c21f-4fb3-cdaa-27ecc9c8d974"
   },
   "outputs": [
    {
     "data": {
      "text/html": [
       "<div>\n",
       "<style scoped>\n",
       "    .dataframe tbody tr th:only-of-type {\n",
       "        vertical-align: middle;\n",
       "    }\n",
       "\n",
       "    .dataframe tbody tr th {\n",
       "        vertical-align: top;\n",
       "    }\n",
       "\n",
       "    .dataframe thead th {\n",
       "        text-align: right;\n",
       "    }\n",
       "</style>\n",
       "<table border=\"1\" class=\"dataframe\">\n",
       "  <thead>\n",
       "    <tr style=\"text-align: right;\">\n",
       "      <th></th>\n",
       "      <th>imdb_title_id</th>\n",
       "      <th>title</th>\n",
       "      <th>original_title</th>\n",
       "      <th>year</th>\n",
       "      <th>date_published</th>\n",
       "      <th>genre</th>\n",
       "      <th>duration</th>\n",
       "      <th>country</th>\n",
       "      <th>language</th>\n",
       "      <th>director_spaces</th>\n",
       "      <th>director</th>\n",
       "      <th>writer</th>\n",
       "      <th>production_company</th>\n",
       "      <th>actors_spaces</th>\n",
       "      <th>actors</th>\n",
       "      <th>description</th>\n",
       "      <th>avg_vote</th>\n",
       "      <th>votes</th>\n",
       "      <th>budget</th>\n",
       "      <th>usa_gross_income</th>\n",
       "      <th>worlwide_gross_income</th>\n",
       "      <th>metascore</th>\n",
       "      <th>reviews_from_users</th>\n",
       "      <th>reviews_from_critics</th>\n",
       "    </tr>\n",
       "  </thead>\n",
       "  <tbody>\n",
       "    <tr>\n",
       "      <th>0</th>\n",
       "      <td>tt0004134</td>\n",
       "      <td>Hypocrites</td>\n",
       "      <td>Hypocrites</td>\n",
       "      <td>1915</td>\n",
       "      <td>1/20/1915</td>\n",
       "      <td>Drama</td>\n",
       "      <td>54</td>\n",
       "      <td>USA</td>\n",
       "      <td>English</td>\n",
       "      <td>Lois Weber</td>\n",
       "      <td>Lois Weber</td>\n",
       "      <td>Lois Weber</td>\n",
       "      <td>Hobart Bosworth Productions</td>\n",
       "      <td>Courtenay Foote, Myrtle Stedman, Herbert Stand...</td>\n",
       "      <td>Courtenay Foote, Myrtle Stedman, Herbert Stand...</td>\n",
       "      <td>The parallel stories of a modern preacher and ...</td>\n",
       "      <td>6.6</td>\n",
       "      <td>429</td>\n",
       "      <td>NaN</td>\n",
       "      <td>NaN</td>\n",
       "      <td>NaN</td>\n",
       "      <td>NaN</td>\n",
       "      <td>41</td>\n",
       "      <td>8.0</td>\n",
       "    </tr>\n",
       "    <tr>\n",
       "      <th>1</th>\n",
       "      <td>tt0004707</td>\n",
       "      <td>Tillie's Punctured Romance</td>\n",
       "      <td>Tillie's Punctured Romance</td>\n",
       "      <td>1914</td>\n",
       "      <td>12/21/1914</td>\n",
       "      <td>Comedy</td>\n",
       "      <td>82</td>\n",
       "      <td>USA</td>\n",
       "      <td>English</td>\n",
       "      <td>Mack Sennett, Charles Bennett</td>\n",
       "      <td>Mack Sennett, Charles Bennett</td>\n",
       "      <td>NaN</td>\n",
       "      <td>Keystone Film Company</td>\n",
       "      <td>Marie Dressler, Charles Chaplin, Mabel Normand...</td>\n",
       "      <td>Marie Dressler, Charles Chaplin, Mabel Normand...</td>\n",
       "      <td>A con man from the city dupes a wealthy countr...</td>\n",
       "      <td>6.3</td>\n",
       "      <td>3164</td>\n",
       "      <td>$50,000</td>\n",
       "      <td>NaN</td>\n",
       "      <td>NaN</td>\n",
       "      <td>NaN</td>\n",
       "      <td>37</td>\n",
       "      <td>18.0</td>\n",
       "    </tr>\n",
       "    <tr>\n",
       "      <th>2</th>\n",
       "      <td>tt0005078</td>\n",
       "      <td>The Cheat</td>\n",
       "      <td>The Cheat</td>\n",
       "      <td>1915</td>\n",
       "      <td>12/13/1915</td>\n",
       "      <td>Drama, Romance</td>\n",
       "      <td>59</td>\n",
       "      <td>USA</td>\n",
       "      <td>English</td>\n",
       "      <td>Cecil B. DeMille</td>\n",
       "      <td>Cecil B. DeMille</td>\n",
       "      <td>Hector Turnbull, Jeanie Macpherson</td>\n",
       "      <td>Jesse L. Lasky Feature Play Company</td>\n",
       "      <td>Fannie Ward, Sessue Hayakawa, Jack Dean, James...</td>\n",
       "      <td>Fannie Ward, Sessue Hayakawa, Jack Dean, James...</td>\n",
       "      <td>A venal, spoiled stockbroker's wife impulsivel...</td>\n",
       "      <td>6.6</td>\n",
       "      <td>2217</td>\n",
       "      <td>$17,311</td>\n",
       "      <td>NaN</td>\n",
       "      <td>NaN</td>\n",
       "      <td>NaN</td>\n",
       "      <td>38</td>\n",
       "      <td>19.0</td>\n",
       "    </tr>\n",
       "    <tr>\n",
       "      <th>3</th>\n",
       "      <td>tt0006333</td>\n",
       "      <td>20,000 Leagues Under the Sea</td>\n",
       "      <td>20,000 Leagues Under the Sea</td>\n",
       "      <td>1916</td>\n",
       "      <td>12/24/1916</td>\n",
       "      <td>Action, Adventure, Sci-Fi</td>\n",
       "      <td>105</td>\n",
       "      <td>USA</td>\n",
       "      <td>English</td>\n",
       "      <td>Stuart Paton</td>\n",
       "      <td>Stuart Paton</td>\n",
       "      <td>Jules Verne</td>\n",
       "      <td>Williamson Submarine Film Corporation</td>\n",
       "      <td>Dan Hanlon, Edna Pendleton, Curtis Benton, All...</td>\n",
       "      <td>Dan Hanlon, Edna Pendleton, Curtis Benton, All...</td>\n",
       "      <td>A French professor and his daughter accompany ...</td>\n",
       "      <td>6.2</td>\n",
       "      <td>1440</td>\n",
       "      <td>$200,000</td>\n",
       "      <td>NaN</td>\n",
       "      <td>NaN</td>\n",
       "      <td>NaN</td>\n",
       "      <td>26</td>\n",
       "      <td>16.0</td>\n",
       "    </tr>\n",
       "    <tr>\n",
       "      <th>4</th>\n",
       "      <td>tt0009611</td>\n",
       "      <td>Shoulder Arms</td>\n",
       "      <td>Shoulder Arms</td>\n",
       "      <td>1918</td>\n",
       "      <td>10/27/1918</td>\n",
       "      <td>Comedy, War</td>\n",
       "      <td>45</td>\n",
       "      <td>USA</td>\n",
       "      <td>English</td>\n",
       "      <td>Charles Chaplin</td>\n",
       "      <td>Charles Chaplin</td>\n",
       "      <td>Charles Chaplin</td>\n",
       "      <td>Charles Chaplin Productions</td>\n",
       "      <td>Edna Purviance, Charles Chaplin, Syd Chaplin, ...</td>\n",
       "      <td>Edna Purviance, Charles Chaplin, Syd Chaplin, ...</td>\n",
       "      <td>Charlie is a boot camp private who has a dream...</td>\n",
       "      <td>7.3</td>\n",
       "      <td>5411</td>\n",
       "      <td>NaN</td>\n",
       "      <td>NaN</td>\n",
       "      <td>NaN</td>\n",
       "      <td>NaN</td>\n",
       "      <td>35</td>\n",
       "      <td>21.0</td>\n",
       "    </tr>\n",
       "  </tbody>\n",
       "</table>\n",
       "</div>"
      ],
      "text/plain": [
       "  imdb_title_id  ... reviews_from_critics\n",
       "0     tt0004134  ...                  8.0\n",
       "1     tt0004707  ...                 18.0\n",
       "2     tt0005078  ...                 19.0\n",
       "3     tt0006333  ...                 16.0\n",
       "4     tt0009611  ...                 21.0\n",
       "\n",
       "[5 rows x 24 columns]"
      ]
     },
     "execution_count": 5,
     "metadata": {
      "tags": []
     },
     "output_type": "execute_result"
    }
   ],
   "source": [
    "import pandas as pd\n",
    "import numpy as np\n",
    "from sklearn.feature_extraction.text import CountVectorizer\n",
    "from sklearn.metrics.pairwise import cosine_similarity\n",
    "\n",
    "df = pd.read_csv(\"IMDB_movies2.csv\")\n",
    "df.head()"
   ]
  },
  {
   "cell_type": "markdown",
   "metadata": {
    "colab_type": "text",
    "id": "3rcHmXdHARNP"
   },
   "source": [
    "If you visualize the dataset, you will see that it has many extra info about a movie. We don’t need all of them. So, we choose keywords, cast, genres and director column to use as our feature set(the so called “content” of the movie)."
   ]
  },
  {
   "cell_type": "code",
   "execution_count": 6,
   "metadata": {
    "colab": {
     "base_uri": "https://localhost:8080/",
     "height": 686
    },
    "colab_type": "code",
    "id": "6pjm00FVDTk8",
    "outputId": "97f5babb-b680-4538-f30c-f24e32d4fb69"
   },
   "outputs": [
    {
     "data": {
      "text/html": [
       "<div>\n",
       "<style scoped>\n",
       "    .dataframe tbody tr th:only-of-type {\n",
       "        vertical-align: middle;\n",
       "    }\n",
       "\n",
       "    .dataframe tbody tr th {\n",
       "        vertical-align: top;\n",
       "    }\n",
       "\n",
       "    .dataframe thead th {\n",
       "        text-align: right;\n",
       "    }\n",
       "</style>\n",
       "<table border=\"1\" class=\"dataframe\">\n",
       "  <thead>\n",
       "    <tr style=\"text-align: right;\">\n",
       "      <th></th>\n",
       "      <th>title</th>\n",
       "      <th>year</th>\n",
       "      <th>genre</th>\n",
       "      <th>country</th>\n",
       "      <th>director</th>\n",
       "      <th>writer</th>\n",
       "      <th>production_company</th>\n",
       "      <th>actors</th>\n",
       "      <th>description</th>\n",
       "      <th>avg_vote</th>\n",
       "      <th>actors_spaces</th>\n",
       "      <th>director_spaces</th>\n",
       "    </tr>\n",
       "  </thead>\n",
       "  <tbody>\n",
       "    <tr>\n",
       "      <th>0</th>\n",
       "      <td>Hypocrites</td>\n",
       "      <td>1915</td>\n",
       "      <td>Drama</td>\n",
       "      <td>USA</td>\n",
       "      <td>Lois Weber</td>\n",
       "      <td>Lois Weber</td>\n",
       "      <td>Hobart Bosworth Productions</td>\n",
       "      <td>Courtenay Foote, Myrtle Stedman, Herbert Stand...</td>\n",
       "      <td>The parallel stories of a modern preacher and ...</td>\n",
       "      <td>6.6</td>\n",
       "      <td>Courtenay Foote, Myrtle Stedman, Herbert Stand...</td>\n",
       "      <td>Lois Weber</td>\n",
       "    </tr>\n",
       "    <tr>\n",
       "      <th>1</th>\n",
       "      <td>Tillie's Punctured Romance</td>\n",
       "      <td>1914</td>\n",
       "      <td>Comedy</td>\n",
       "      <td>USA</td>\n",
       "      <td>Mack Sennett, Charles Bennett</td>\n",
       "      <td>NaN</td>\n",
       "      <td>Keystone Film Company</td>\n",
       "      <td>Marie Dressler, Charles Chaplin, Mabel Normand...</td>\n",
       "      <td>A con man from the city dupes a wealthy countr...</td>\n",
       "      <td>6.3</td>\n",
       "      <td>Marie Dressler, Charles Chaplin, Mabel Normand...</td>\n",
       "      <td>Mack Sennett, Charles Bennett</td>\n",
       "    </tr>\n",
       "    <tr>\n",
       "      <th>2</th>\n",
       "      <td>The Cheat</td>\n",
       "      <td>1915</td>\n",
       "      <td>Drama, Romance</td>\n",
       "      <td>USA</td>\n",
       "      <td>Cecil B. DeMille</td>\n",
       "      <td>Hector Turnbull, Jeanie Macpherson</td>\n",
       "      <td>Jesse L. Lasky Feature Play Company</td>\n",
       "      <td>Fannie Ward, Sessue Hayakawa, Jack Dean, James...</td>\n",
       "      <td>A venal, spoiled stockbroker's wife impulsivel...</td>\n",
       "      <td>6.6</td>\n",
       "      <td>Fannie Ward, Sessue Hayakawa, Jack Dean, James...</td>\n",
       "      <td>Cecil B. DeMille</td>\n",
       "    </tr>\n",
       "    <tr>\n",
       "      <th>3</th>\n",
       "      <td>20,000 Leagues Under the Sea</td>\n",
       "      <td>1916</td>\n",
       "      <td>Action, Adventure, Sci-Fi</td>\n",
       "      <td>USA</td>\n",
       "      <td>Stuart Paton</td>\n",
       "      <td>Jules Verne</td>\n",
       "      <td>Williamson Submarine Film Corporation</td>\n",
       "      <td>Dan Hanlon, Edna Pendleton, Curtis Benton, All...</td>\n",
       "      <td>A French professor and his daughter accompany ...</td>\n",
       "      <td>6.2</td>\n",
       "      <td>Dan Hanlon, Edna Pendleton, Curtis Benton, All...</td>\n",
       "      <td>Stuart Paton</td>\n",
       "    </tr>\n",
       "    <tr>\n",
       "      <th>4</th>\n",
       "      <td>Shoulder Arms</td>\n",
       "      <td>1918</td>\n",
       "      <td>Comedy, War</td>\n",
       "      <td>USA</td>\n",
       "      <td>Charles Chaplin</td>\n",
       "      <td>Charles Chaplin</td>\n",
       "      <td>Charles Chaplin Productions</td>\n",
       "      <td>Edna Purviance, Charles Chaplin, Syd Chaplin, ...</td>\n",
       "      <td>Charlie is a boot camp private who has a dream...</td>\n",
       "      <td>7.3</td>\n",
       "      <td>Edna Purviance, Charles Chaplin, Syd Chaplin, ...</td>\n",
       "      <td>Charles Chaplin</td>\n",
       "    </tr>\n",
       "  </tbody>\n",
       "</table>\n",
       "</div>"
      ],
      "text/plain": [
       "                          title  ...                director_spaces\n",
       "0                    Hypocrites  ...                     Lois Weber\n",
       "1    Tillie's Punctured Romance  ...  Mack Sennett, Charles Bennett\n",
       "2                     The Cheat  ...               Cecil B. DeMille\n",
       "3  20,000 Leagues Under the Sea  ...                   Stuart Paton\n",
       "4                 Shoulder Arms  ...                Charles Chaplin\n",
       "\n",
       "[5 rows x 12 columns]"
      ]
     },
     "execution_count": 6,
     "metadata": {
      "tags": []
     },
     "output_type": "execute_result"
    }
   ],
   "source": [
    "df = df[[\"title\", \"year\", \"genre\", \"country\", \"director\", \"writer\", \"production_company\", \"actors\", \"description\", \"avg_vote\", \"actors_spaces\", \"director_spaces\"]]\n",
    "df.head()"
   ]
  },
  {
   "cell_type": "code",
   "execution_count": 7,
   "metadata": {
    "colab": {},
    "colab_type": "code",
    "id": "cqRxFY0s8Qpp"
   },
   "outputs": [],
   "source": [
    "df['avg_vote'] = df['avg_vote'].astype(str)\n",
    "df['year'] = df['year'].astype(str)\n",
    "df['description'] = df['description'].astype(str)"
   ]
  },
  {
   "cell_type": "code",
   "execution_count": 8,
   "metadata": {
    "colab": {
     "base_uri": "https://localhost:8080/",
     "height": 68
    },
    "colab_type": "code",
    "id": "u4nXEBBQT_aX",
    "outputId": "f995bef2-001e-462a-f571-76c4dda1d047"
   },
   "outputs": [
    {
     "name": "stdout",
     "output_type": "stream",
     "text": [
      "[nltk_data] Downloading package stopwords to /root/nltk_data...\n",
      "[nltk_data]   Unzipping corpora/stopwords.zip.\n"
     ]
    },
    {
     "data": {
      "text/plain": [
       "True"
      ]
     },
     "execution_count": 8,
     "metadata": {
      "tags": []
     },
     "output_type": "execute_result"
    }
   ],
   "source": [
    "import nltk\n",
    "nltk.download(\"stopwords\")"
   ]
  },
  {
   "cell_type": "code",
   "execution_count": 9,
   "metadata": {
    "colab": {
     "base_uri": "https://localhost:8080/",
     "height": 686
    },
    "colab_type": "code",
    "id": "QNcxyqh45Tnu",
    "outputId": "3022947b-9b0e-487b-c808-1bb0a8ea6470"
   },
   "outputs": [
    {
     "data": {
      "text/html": [
       "<div>\n",
       "<style scoped>\n",
       "    .dataframe tbody tr th:only-of-type {\n",
       "        vertical-align: middle;\n",
       "    }\n",
       "\n",
       "    .dataframe tbody tr th {\n",
       "        vertical-align: top;\n",
       "    }\n",
       "\n",
       "    .dataframe thead th {\n",
       "        text-align: right;\n",
       "    }\n",
       "</style>\n",
       "<table border=\"1\" class=\"dataframe\">\n",
       "  <thead>\n",
       "    <tr style=\"text-align: right;\">\n",
       "      <th></th>\n",
       "      <th>title</th>\n",
       "      <th>year</th>\n",
       "      <th>genre</th>\n",
       "      <th>country</th>\n",
       "      <th>director</th>\n",
       "      <th>writer</th>\n",
       "      <th>production_company</th>\n",
       "      <th>actors</th>\n",
       "      <th>description</th>\n",
       "      <th>avg_vote</th>\n",
       "      <th>actors_spaces</th>\n",
       "      <th>director_spaces</th>\n",
       "      <th>keywords</th>\n",
       "    </tr>\n",
       "  </thead>\n",
       "  <tbody>\n",
       "    <tr>\n",
       "      <th>0</th>\n",
       "      <td>Hypocrites</td>\n",
       "      <td>1915</td>\n",
       "      <td>Drama</td>\n",
       "      <td>USA</td>\n",
       "      <td>Lois Weber</td>\n",
       "      <td>Lois Weber</td>\n",
       "      <td>Hobart Bosworth Productions</td>\n",
       "      <td>Courtenay Foote, Myrtle Stedman, Herbert Stand...</td>\n",
       "      <td>The parallel stories of a modern preacher and ...</td>\n",
       "      <td>6.6</td>\n",
       "      <td>Courtenay Foote, Myrtle Stedman, Herbert Stand...</td>\n",
       "      <td>Lois Weber</td>\n",
       "      <td>parallel stories modern preacher medieval monk...</td>\n",
       "    </tr>\n",
       "    <tr>\n",
       "      <th>1</th>\n",
       "      <td>Tillie's Punctured Romance</td>\n",
       "      <td>1914</td>\n",
       "      <td>Comedy</td>\n",
       "      <td>USA</td>\n",
       "      <td>Mack Sennett, Charles Bennett</td>\n",
       "      <td>NaN</td>\n",
       "      <td>Keystone Film Company</td>\n",
       "      <td>Marie Dressler, Charles Chaplin, Mabel Normand...</td>\n",
       "      <td>A con man from the city dupes a wealthy countr...</td>\n",
       "      <td>6.3</td>\n",
       "      <td>Marie Dressler, Charles Chaplin, Mabel Normand...</td>\n",
       "      <td>Mack Sennett, Charles Bennett</td>\n",
       "      <td>con man city dupes wealthy country girl marriage.</td>\n",
       "    </tr>\n",
       "    <tr>\n",
       "      <th>2</th>\n",
       "      <td>The Cheat</td>\n",
       "      <td>1915</td>\n",
       "      <td>Drama, Romance</td>\n",
       "      <td>USA</td>\n",
       "      <td>Cecil B. DeMille</td>\n",
       "      <td>Hector Turnbull, Jeanie Macpherson</td>\n",
       "      <td>Jesse L. Lasky Feature Play Company</td>\n",
       "      <td>Fannie Ward, Sessue Hayakawa, Jack Dean, James...</td>\n",
       "      <td>A venal, spoiled stockbroker's wife impulsivel...</td>\n",
       "      <td>6.6</td>\n",
       "      <td>Fannie Ward, Sessue Hayakawa, Jack Dean, James...</td>\n",
       "      <td>Cecil B. DeMille</td>\n",
       "      <td>venal, spoiled stockbroker's wife impulsively ...</td>\n",
       "    </tr>\n",
       "    <tr>\n",
       "      <th>3</th>\n",
       "      <td>20,000 Leagues Under the Sea</td>\n",
       "      <td>1916</td>\n",
       "      <td>Action, Adventure, Sci-Fi</td>\n",
       "      <td>USA</td>\n",
       "      <td>Stuart Paton</td>\n",
       "      <td>Jules Verne</td>\n",
       "      <td>Williamson Submarine Film Corporation</td>\n",
       "      <td>Dan Hanlon, Edna Pendleton, Curtis Benton, All...</td>\n",
       "      <td>A French professor and his daughter accompany ...</td>\n",
       "      <td>6.2</td>\n",
       "      <td>Dan Hanlon, Edna Pendleton, Curtis Benton, All...</td>\n",
       "      <td>Stuart Paton</td>\n",
       "      <td>French professor daughter accompany Captain Ne...</td>\n",
       "    </tr>\n",
       "    <tr>\n",
       "      <th>4</th>\n",
       "      <td>Shoulder Arms</td>\n",
       "      <td>1918</td>\n",
       "      <td>Comedy, War</td>\n",
       "      <td>USA</td>\n",
       "      <td>Charles Chaplin</td>\n",
       "      <td>Charles Chaplin</td>\n",
       "      <td>Charles Chaplin Productions</td>\n",
       "      <td>Edna Purviance, Charles Chaplin, Syd Chaplin, ...</td>\n",
       "      <td>Charlie is a boot camp private who has a dream...</td>\n",
       "      <td>7.3</td>\n",
       "      <td>Edna Purviance, Charles Chaplin, Syd Chaplin, ...</td>\n",
       "      <td>Charles Chaplin</td>\n",
       "      <td>Charlie boot camp private dream hero goes dari...</td>\n",
       "    </tr>\n",
       "  </tbody>\n",
       "</table>\n",
       "</div>"
      ],
      "text/plain": [
       "                          title  ...                                           keywords\n",
       "0                    Hypocrites  ...  parallel stories modern preacher medieval monk...\n",
       "1    Tillie's Punctured Romance  ...  con man city dupes wealthy country girl marriage.\n",
       "2                     The Cheat  ...  venal, spoiled stockbroker's wife impulsively ...\n",
       "3  20,000 Leagues Under the Sea  ...  French professor daughter accompany Captain Ne...\n",
       "4                 Shoulder Arms  ...  Charlie boot camp private dream hero goes dari...\n",
       "\n",
       "[5 rows x 13 columns]"
      ]
     },
     "execution_count": 9,
     "metadata": {
      "tags": []
     },
     "output_type": "execute_result"
    }
   ],
   "source": [
    "from nltk.corpus import stopwords\n",
    "stop = stopwords.words('english')\n",
    "stop.append('A')\n",
    "stop.append('The')\n",
    "df['keywords'] = df['description'].apply(lambda x: ' '.join([word for word in x.split() if word not in (stop)]))\n",
    "df.head()"
   ]
  },
  {
   "cell_type": "code",
   "execution_count": 10,
   "metadata": {
    "colab": {
     "base_uri": "https://localhost:8080/",
     "height": 686
    },
    "colab_type": "code",
    "id": "kS1w1w8f7xSS",
    "outputId": "e4b2cf34-2c6c-44e5-a46f-aea3ab54f26b"
   },
   "outputs": [
    {
     "data": {
      "text/html": [
       "<div>\n",
       "<style scoped>\n",
       "    .dataframe tbody tr th:only-of-type {\n",
       "        vertical-align: middle;\n",
       "    }\n",
       "\n",
       "    .dataframe tbody tr th {\n",
       "        vertical-align: top;\n",
       "    }\n",
       "\n",
       "    .dataframe thead th {\n",
       "        text-align: right;\n",
       "    }\n",
       "</style>\n",
       "<table border=\"1\" class=\"dataframe\">\n",
       "  <thead>\n",
       "    <tr style=\"text-align: right;\">\n",
       "      <th></th>\n",
       "      <th>title</th>\n",
       "      <th>year</th>\n",
       "      <th>genre</th>\n",
       "      <th>country</th>\n",
       "      <th>director</th>\n",
       "      <th>writer</th>\n",
       "      <th>production_company</th>\n",
       "      <th>actors</th>\n",
       "      <th>description</th>\n",
       "      <th>avg_vote</th>\n",
       "      <th>actors_spaces</th>\n",
       "      <th>director_spaces</th>\n",
       "      <th>keywords</th>\n",
       "      <th>title_year</th>\n",
       "    </tr>\n",
       "  </thead>\n",
       "  <tbody>\n",
       "    <tr>\n",
       "      <th>0</th>\n",
       "      <td>Hypocrites</td>\n",
       "      <td>1915</td>\n",
       "      <td>Drama</td>\n",
       "      <td>USA</td>\n",
       "      <td>Lois Weber</td>\n",
       "      <td>Lois Weber</td>\n",
       "      <td>Hobart Bosworth Productions</td>\n",
       "      <td>Courtenay Foote, Myrtle Stedman, Herbert Stand...</td>\n",
       "      <td>The parallel stories of a modern preacher and ...</td>\n",
       "      <td>6.6</td>\n",
       "      <td>Courtenay Foote, Myrtle Stedman, Herbert Stand...</td>\n",
       "      <td>Lois Weber</td>\n",
       "      <td>parallel stories modern preacher medieval monk...</td>\n",
       "      <td>Hypocrites (1915)</td>\n",
       "    </tr>\n",
       "    <tr>\n",
       "      <th>1</th>\n",
       "      <td>Tillie's Punctured Romance</td>\n",
       "      <td>1914</td>\n",
       "      <td>Comedy</td>\n",
       "      <td>USA</td>\n",
       "      <td>Mack Sennett, Charles Bennett</td>\n",
       "      <td>NaN</td>\n",
       "      <td>Keystone Film Company</td>\n",
       "      <td>Marie Dressler, Charles Chaplin, Mabel Normand...</td>\n",
       "      <td>A con man from the city dupes a wealthy countr...</td>\n",
       "      <td>6.3</td>\n",
       "      <td>Marie Dressler, Charles Chaplin, Mabel Normand...</td>\n",
       "      <td>Mack Sennett, Charles Bennett</td>\n",
       "      <td>con man city dupes wealthy country girl marriage.</td>\n",
       "      <td>Tillie's Punctured Romance (1914)</td>\n",
       "    </tr>\n",
       "    <tr>\n",
       "      <th>2</th>\n",
       "      <td>The Cheat</td>\n",
       "      <td>1915</td>\n",
       "      <td>Drama, Romance</td>\n",
       "      <td>USA</td>\n",
       "      <td>Cecil B. DeMille</td>\n",
       "      <td>Hector Turnbull, Jeanie Macpherson</td>\n",
       "      <td>Jesse L. Lasky Feature Play Company</td>\n",
       "      <td>Fannie Ward, Sessue Hayakawa, Jack Dean, James...</td>\n",
       "      <td>A venal, spoiled stockbroker's wife impulsivel...</td>\n",
       "      <td>6.6</td>\n",
       "      <td>Fannie Ward, Sessue Hayakawa, Jack Dean, James...</td>\n",
       "      <td>Cecil B. DeMille</td>\n",
       "      <td>venal, spoiled stockbroker's wife impulsively ...</td>\n",
       "      <td>The Cheat (1915)</td>\n",
       "    </tr>\n",
       "    <tr>\n",
       "      <th>3</th>\n",
       "      <td>20,000 Leagues Under the Sea</td>\n",
       "      <td>1916</td>\n",
       "      <td>Action, Adventure, Sci-Fi</td>\n",
       "      <td>USA</td>\n",
       "      <td>Stuart Paton</td>\n",
       "      <td>Jules Verne</td>\n",
       "      <td>Williamson Submarine Film Corporation</td>\n",
       "      <td>Dan Hanlon, Edna Pendleton, Curtis Benton, All...</td>\n",
       "      <td>A French professor and his daughter accompany ...</td>\n",
       "      <td>6.2</td>\n",
       "      <td>Dan Hanlon, Edna Pendleton, Curtis Benton, All...</td>\n",
       "      <td>Stuart Paton</td>\n",
       "      <td>French professor daughter accompany Captain Ne...</td>\n",
       "      <td>20,000 Leagues Under the Sea (1916)</td>\n",
       "    </tr>\n",
       "    <tr>\n",
       "      <th>4</th>\n",
       "      <td>Shoulder Arms</td>\n",
       "      <td>1918</td>\n",
       "      <td>Comedy, War</td>\n",
       "      <td>USA</td>\n",
       "      <td>Charles Chaplin</td>\n",
       "      <td>Charles Chaplin</td>\n",
       "      <td>Charles Chaplin Productions</td>\n",
       "      <td>Edna Purviance, Charles Chaplin, Syd Chaplin, ...</td>\n",
       "      <td>Charlie is a boot camp private who has a dream...</td>\n",
       "      <td>7.3</td>\n",
       "      <td>Edna Purviance, Charles Chaplin, Syd Chaplin, ...</td>\n",
       "      <td>Charles Chaplin</td>\n",
       "      <td>Charlie boot camp private dream hero goes dari...</td>\n",
       "      <td>Shoulder Arms (1918)</td>\n",
       "    </tr>\n",
       "  </tbody>\n",
       "</table>\n",
       "</div>"
      ],
      "text/plain": [
       "                          title  ...                           title_year\n",
       "0                    Hypocrites  ...                    Hypocrites (1915)\n",
       "1    Tillie's Punctured Romance  ...    Tillie's Punctured Romance (1914)\n",
       "2                     The Cheat  ...                     The Cheat (1915)\n",
       "3  20,000 Leagues Under the Sea  ...  20,000 Leagues Under the Sea (1916)\n",
       "4                 Shoulder Arms  ...                 Shoulder Arms (1918)\n",
       "\n",
       "[5 rows x 14 columns]"
      ]
     },
     "execution_count": 10,
     "metadata": {
      "tags": []
     },
     "output_type": "execute_result"
    }
   ],
   "source": [
    "df['title_year'] = df['title'] + ' (' + df['year'].astype(str) + ')'\n",
    "df.head()"
   ]
  },
  {
   "cell_type": "code",
   "execution_count": 11,
   "metadata": {
    "colab": {
     "base_uri": "https://localhost:8080/",
     "height": 274
    },
    "colab_type": "code",
    "id": "qSWphDNtDk7K",
    "outputId": "af881331-273e-4252-e4c1-a29b9dd16172"
   },
   "outputs": [
    {
     "data": {
      "text/plain": [
       "title                 object\n",
       "year                  object\n",
       "genre                 object\n",
       "country               object\n",
       "director              object\n",
       "writer                object\n",
       "production_company    object\n",
       "actors                object\n",
       "description           object\n",
       "avg_vote              object\n",
       "actors_spaces         object\n",
       "director_spaces       object\n",
       "keywords              object\n",
       "title_year            object\n",
       "dtype: object"
      ]
     },
     "execution_count": 11,
     "metadata": {
      "tags": []
     },
     "output_type": "execute_result"
    }
   ],
   "source": [
    "df.dtypes"
   ]
  },
  {
   "cell_type": "code",
   "execution_count": 12,
   "metadata": {
    "colab": {},
    "colab_type": "code",
    "id": "ZMe6OviLxJM5"
   },
   "outputs": [],
   "source": [
    "for i in [\"director\",\"writer\", \"actors\", \"production_company\"]:\n",
    "    df[i] = df[i].str.replace(' ', '')"
   ]
  },
  {
   "cell_type": "code",
   "execution_count": 13,
   "metadata": {
    "colab": {},
    "colab_type": "code",
    "id": "sZVMfmt740Kv"
   },
   "outputs": [],
   "source": [
    "for i in [\"director\",\"writer\", \"actors\", \"production_company\", \"genre\"]:\n",
    "    df[i] = df[i].str.replace(',', ' ')"
   ]
  },
  {
   "cell_type": "code",
   "execution_count": 14,
   "metadata": {
    "colab": {},
    "colab_type": "code",
    "id": "ijCEdYkPARNn"
   },
   "outputs": [],
   "source": [
    "features = ['title', 'director', 'year', 'genre', 'keywords', 'production_company', 'writer', 'actors']"
   ]
  },
  {
   "cell_type": "markdown",
   "metadata": {
    "colab_type": "text",
    "id": "SavW6ZawARNt"
   },
   "source": [
    "Our next task is to create a function for combining the values of these columns into a single string."
   ]
  },
  {
   "cell_type": "code",
   "execution_count": 15,
   "metadata": {
    "colab": {},
    "colab_type": "code",
    "id": "skiTq0W_ARNt"
   },
   "outputs": [],
   "source": [
    "def combine_features(row):\n",
    "    return row['title']+\" \"+((row['director'] +\" \") * 2)+\" \"+row['year']+\" \"+((row['genre'] +\" \") * 2)+\" \"+row['keywords']+\" \"+row['production_company']+\" \"+row['writer']+\" \"+row['actors']"
   ]
  },
  {
   "cell_type": "markdown",
   "metadata": {
    "colab_type": "text",
    "id": "KetprQeaARNw"
   },
   "source": [
    "Now, we need to call this function over each row of our dataframe. But, before doing that, we need to clean and preprocess the data for our use. We will fill all the NaN values with blank string in the dataframe."
   ]
  },
  {
   "cell_type": "code",
   "execution_count": 16,
   "metadata": {
    "colab": {},
    "colab_type": "code",
    "id": "IZI7KihzARNx"
   },
   "outputs": [],
   "source": [
    "for feature in features:\n",
    "    df[feature] = df[feature].fillna('') #filling all NaNs with blank string\n",
    "\n",
    "df[\"combined_features\"] = df.apply(combine_features,axis=1) #applying combined_features() method over each rows of dataframe and storing the combined string in \"combined_features\" column\n"
   ]
  },
  {
   "cell_type": "code",
   "execution_count": 19,
   "metadata": {
    "colab": {
     "base_uri": "https://localhost:8080/",
     "height": 69
    },
    "colab_type": "code",
    "id": "rgSzT0_vARN3",
    "outputId": "d13dac21-63a7-4168-d27b-c229b36bcefa"
   },
   "outputs": [
    {
     "data": {
      "application/vnd.google.colaboratory.intrinsic+json": {
       "type": "string"
      },
      "text/plain": [
       "'20,000 Leagues Under the Sea StuartPaton StuartPaton  1916 Action  Adventure  Sci-Fi Action  Adventure  Sci-Fi  French professor daughter accompany Captain Nemo adventure aboard submarine. WilliamsonSubmarineFilmCorporation JulesVerne DanHanlon EdnaPendleton CurtisBenton AllenHolubar MattMoore JaneGail HowardCrampton WilliamWelsh LoisAlexander WallisClark'"
      ]
     },
     "execution_count": 19,
     "metadata": {
      "tags": []
     },
     "output_type": "execute_result"
    }
   ],
   "source": [
    "df.iloc[3].combined_features"
   ]
  },
  {
   "cell_type": "code",
   "execution_count": null,
   "metadata": {},
   "outputs": [],
   "source": [
    "df.to_csv(\"IMDB_movies_clean.csv\")"
   ]
  },
  {
   "cell_type": "markdown",
   "metadata": {
    "colab_type": "text",
    "id": "Yl2j0Uc4ARN8"
   },
   "source": [
    "Now that we have obtained the combined strings, we can now feed these strings to a CountVectorizer() object for getting the count matrix."
   ]
  },
  {
   "cell_type": "code",
   "execution_count": 20,
   "metadata": {
    "colab": {
     "base_uri": "https://localhost:8080/",
     "height": 51
    },
    "colab_type": "code",
    "id": "z2ok3D6jARN9",
    "outputId": "5abac8f9-2aba-40a2-cdf1-a27572158a28"
   },
   "outputs": [
    {
     "data": {
      "text/plain": [
       "<14067x128356 sparse matrix of type '<class 'numpy.int64'>'\n",
       "\twith 556685 stored elements in Compressed Sparse Row format>"
      ]
     },
     "execution_count": 20,
     "metadata": {
      "tags": []
     },
     "output_type": "execute_result"
    }
   ],
   "source": [
    "cv = CountVectorizer() #creating new CountVectorizer() object\n",
    "count_matrix = cv.fit_transform(df[\"combined_features\"]) #feeding combined strings(movie contents) to CountVectorizer() object\n",
    "count_matrix"
   ]
  },
  {
   "cell_type": "markdown",
   "metadata": {
    "colab_type": "text",
    "id": "KWdYsvxUAROA"
   },
   "source": [
    "At this point, 60% work is done. Now, we need to obtain the cosine similarity matrix from the count matrix."
   ]
  },
  {
   "cell_type": "code",
   "execution_count": 21,
   "metadata": {
    "colab": {},
    "colab_type": "code",
    "id": "v2TAw4ejAROA"
   },
   "outputs": [],
   "source": [
    "cosine_sim = cosine_similarity(count_matrix)"
   ]
  },
  {
   "cell_type": "markdown",
   "metadata": {
    "colab_type": "text",
    "id": "FJh6O8ksAROI"
   },
   "source": [
    "Now, we will define two helper functions to get movie title from movie index and vice-versa."
   ]
  },
  {
   "cell_type": "code",
   "execution_count": 22,
   "metadata": {
    "colab": {
     "base_uri": "https://localhost:8080/",
     "height": 617
    },
    "colab_type": "code",
    "id": "jTWMRMNrAROJ",
    "outputId": "c20338c3-82b3-4f05-cc3a-2d96e5e3148e"
   },
   "outputs": [
    {
     "data": {
      "text/html": [
       "<div>\n",
       "<style scoped>\n",
       "    .dataframe tbody tr th:only-of-type {\n",
       "        vertical-align: middle;\n",
       "    }\n",
       "\n",
       "    .dataframe tbody tr th {\n",
       "        vertical-align: top;\n",
       "    }\n",
       "\n",
       "    .dataframe thead th {\n",
       "        text-align: right;\n",
       "    }\n",
       "</style>\n",
       "<table border=\"1\" class=\"dataframe\">\n",
       "  <thead>\n",
       "    <tr style=\"text-align: right;\">\n",
       "      <th></th>\n",
       "      <th>index</th>\n",
       "      <th>title</th>\n",
       "      <th>year</th>\n",
       "      <th>genre</th>\n",
       "      <th>country</th>\n",
       "      <th>director</th>\n",
       "      <th>writer</th>\n",
       "      <th>production_company</th>\n",
       "      <th>actors</th>\n",
       "      <th>description</th>\n",
       "      <th>avg_vote</th>\n",
       "      <th>actors_spaces</th>\n",
       "      <th>director_spaces</th>\n",
       "      <th>keywords</th>\n",
       "      <th>title_year</th>\n",
       "      <th>combined_features</th>\n",
       "    </tr>\n",
       "  </thead>\n",
       "  <tbody>\n",
       "    <tr>\n",
       "      <th>0</th>\n",
       "      <td>0</td>\n",
       "      <td>Hypocrites</td>\n",
       "      <td>1915</td>\n",
       "      <td>Drama</td>\n",
       "      <td>USA</td>\n",
       "      <td>LoisWeber</td>\n",
       "      <td>LoisWeber</td>\n",
       "      <td>HobartBosworthProductions</td>\n",
       "      <td>CourtenayFoote MyrtleStedman HerbertStanding A...</td>\n",
       "      <td>The parallel stories of a modern preacher and ...</td>\n",
       "      <td>6.6</td>\n",
       "      <td>Courtenay Foote, Myrtle Stedman, Herbert Stand...</td>\n",
       "      <td>Lois Weber</td>\n",
       "      <td>parallel stories modern preacher medieval monk...</td>\n",
       "      <td>Hypocrites (1915)</td>\n",
       "      <td>Hypocrites LoisWeber LoisWeber  1915 Drama Dra...</td>\n",
       "    </tr>\n",
       "    <tr>\n",
       "      <th>1</th>\n",
       "      <td>1</td>\n",
       "      <td>Tillie's Punctured Romance</td>\n",
       "      <td>1914</td>\n",
       "      <td>Comedy</td>\n",
       "      <td>USA</td>\n",
       "      <td>MackSennett CharlesBennett</td>\n",
       "      <td></td>\n",
       "      <td>KeystoneFilmCompany</td>\n",
       "      <td>MarieDressler CharlesChaplin MabelNormand Mack...</td>\n",
       "      <td>A con man from the city dupes a wealthy countr...</td>\n",
       "      <td>6.3</td>\n",
       "      <td>Marie Dressler, Charles Chaplin, Mabel Normand...</td>\n",
       "      <td>Mack Sennett, Charles Bennett</td>\n",
       "      <td>con man city dupes wealthy country girl marriage.</td>\n",
       "      <td>Tillie's Punctured Romance (1914)</td>\n",
       "      <td>Tillie's Punctured Romance MackSennett Charles...</td>\n",
       "    </tr>\n",
       "    <tr>\n",
       "      <th>2</th>\n",
       "      <td>2</td>\n",
       "      <td>The Cheat</td>\n",
       "      <td>1915</td>\n",
       "      <td>Drama  Romance</td>\n",
       "      <td>USA</td>\n",
       "      <td>CecilB.DeMille</td>\n",
       "      <td>HectorTurnbull JeanieMacpherson</td>\n",
       "      <td>JesseL.LaskyFeaturePlayCompany</td>\n",
       "      <td>FannieWard SessueHayakawa JackDean JamesNeill ...</td>\n",
       "      <td>A venal, spoiled stockbroker's wife impulsivel...</td>\n",
       "      <td>6.6</td>\n",
       "      <td>Fannie Ward, Sessue Hayakawa, Jack Dean, James...</td>\n",
       "      <td>Cecil B. DeMille</td>\n",
       "      <td>venal, spoiled stockbroker's wife impulsively ...</td>\n",
       "      <td>The Cheat (1915)</td>\n",
       "      <td>The Cheat CecilB.DeMille CecilB.DeMille  1915 ...</td>\n",
       "    </tr>\n",
       "    <tr>\n",
       "      <th>3</th>\n",
       "      <td>3</td>\n",
       "      <td>20,000 Leagues Under the Sea</td>\n",
       "      <td>1916</td>\n",
       "      <td>Action  Adventure  Sci-Fi</td>\n",
       "      <td>USA</td>\n",
       "      <td>StuartPaton</td>\n",
       "      <td>JulesVerne</td>\n",
       "      <td>WilliamsonSubmarineFilmCorporation</td>\n",
       "      <td>DanHanlon EdnaPendleton CurtisBenton AllenHolu...</td>\n",
       "      <td>A French professor and his daughter accompany ...</td>\n",
       "      <td>6.2</td>\n",
       "      <td>Dan Hanlon, Edna Pendleton, Curtis Benton, All...</td>\n",
       "      <td>Stuart Paton</td>\n",
       "      <td>French professor daughter accompany Captain Ne...</td>\n",
       "      <td>20,000 Leagues Under the Sea (1916)</td>\n",
       "      <td>20,000 Leagues Under the Sea StuartPaton Stuar...</td>\n",
       "    </tr>\n",
       "    <tr>\n",
       "      <th>4</th>\n",
       "      <td>4</td>\n",
       "      <td>Shoulder Arms</td>\n",
       "      <td>1918</td>\n",
       "      <td>Comedy  War</td>\n",
       "      <td>USA</td>\n",
       "      <td>CharlesChaplin</td>\n",
       "      <td>CharlesChaplin</td>\n",
       "      <td>CharlesChaplinProductions</td>\n",
       "      <td>EdnaPurviance CharlesChaplin SydChaplin LoyalU...</td>\n",
       "      <td>Charlie is a boot camp private who has a dream...</td>\n",
       "      <td>7.3</td>\n",
       "      <td>Edna Purviance, Charles Chaplin, Syd Chaplin, ...</td>\n",
       "      <td>Charles Chaplin</td>\n",
       "      <td>Charlie boot camp private dream hero goes dari...</td>\n",
       "      <td>Shoulder Arms (1918)</td>\n",
       "      <td>Shoulder Arms CharlesChaplin CharlesChaplin  1...</td>\n",
       "    </tr>\n",
       "  </tbody>\n",
       "</table>\n",
       "</div>"
      ],
      "text/plain": [
       "   index  ...                                  combined_features\n",
       "0      0  ...  Hypocrites LoisWeber LoisWeber  1915 Drama Dra...\n",
       "1      1  ...  Tillie's Punctured Romance MackSennett Charles...\n",
       "2      2  ...  The Cheat CecilB.DeMille CecilB.DeMille  1915 ...\n",
       "3      3  ...  20,000 Leagues Under the Sea StuartPaton Stuar...\n",
       "4      4  ...  Shoulder Arms CharlesChaplin CharlesChaplin  1...\n",
       "\n",
       "[5 rows x 16 columns]"
      ]
     },
     "execution_count": 22,
     "metadata": {
      "tags": []
     },
     "output_type": "execute_result"
    }
   ],
   "source": [
    "df = df.reset_index()\n",
    "df.head()"
   ]
  },
  {
   "cell_type": "code",
   "execution_count": 23,
   "metadata": {
    "colab": {},
    "colab_type": "code",
    "id": "PxpAov8bAROO"
   },
   "outputs": [],
   "source": [
    "def get_title_from_index(index):\n",
    "    return df[df.index == index][\"title_year\"].values[0]\n",
    "def get_index_from_title(title_year):\n",
    "    return df[df.title_year == title_year][\"index\"].values[0]"
   ]
  },
  {
   "cell_type": "markdown",
   "metadata": {
    "colab_type": "text",
    "id": "e4Joel0tAROQ"
   },
   "source": [
    "Our next step is to get the title of the movie that the user currently likes. Then we will find the index of that movie. After that, we will access the row corresponding to this movie in the similarity matrix. Thus, we will get the similarity scores of all other movies from the current movie. Then we will enumerate through all the similarity scores of that movie to make a tuple of movie index and similarity score. This will convert a row of similarity scores like this- `[1 0.5 0.2 0.9]` to this- `[(0, 1) (1, 0.5) (2, 0.2) (3, 0.9)]` . Here, each item is in this form- (movie index, similarity score)."
   ]
  },
  {
   "cell_type": "code",
   "execution_count": 24,
   "metadata": {
    "colab": {
     "base_uri": "https://localhost:8080/",
     "height": 34
    },
    "colab_type": "code",
    "id": "6aHLmPG0TBVT",
    "outputId": "283199cf-d6e3-4cbe-c4db-1ef8fe8889a2"
   },
   "outputs": [
    {
     "name": "stdout",
     "output_type": "stream",
     "text": [
      "Enter Movie Title: Muppets Most Wanted (2014)\n"
     ]
    }
   ],
   "source": [
    "movie_user_likes = input(\"Enter Movie Title: \") "
   ]
  },
  {
   "cell_type": "code",
   "execution_count": 25,
   "metadata": {
    "colab": {},
    "colab_type": "code",
    "id": "J5qk4otlAROR"
   },
   "outputs": [],
   "source": [
    "#movie_user_likes = \"Bedknobs and Broomsticks\"\n",
    "movie_index = get_index_from_title(movie_user_likes)\n",
    "similar_movies = list(enumerate(cosine_sim[movie_index])) #accessing the row corresponding to given movie to find all the similarity scores for that movie and then enumerating over it"
   ]
  },
  {
   "cell_type": "markdown",
   "metadata": {
    "colab_type": "text",
    "id": "pAmJwKzxAROT"
   },
   "source": [
    "\n",
    "Now comes the most vital point. We will sort the list `similar_movies` according to similarity scores in descending order. Since the most similar movie to a given movie will be itself, we will discard the first element after sorting the movies."
   ]
  },
  {
   "cell_type": "code",
   "execution_count": 26,
   "metadata": {
    "colab": {},
    "colab_type": "code",
    "id": "ZPAWqvA6AROT"
   },
   "outputs": [],
   "source": [
    "sorted_similar_movies = sorted(similar_movies,key=lambda x:x[1],reverse=True)[1:]"
   ]
  },
  {
   "cell_type": "markdown",
   "metadata": {
    "colab_type": "text",
    "id": "yKP9C7KxAROZ"
   },
   "source": [
    "Now, we will run a loop to print first 5 entries from `sorted_similar_movies` list."
   ]
  },
  {
   "cell_type": "code",
   "execution_count": 27,
   "metadata": {
    "colab": {
     "base_uri": "https://localhost:8080/",
     "height": 154
    },
    "colab_type": "code",
    "id": "IegmnFF1AROd",
    "outputId": "fd60b409-5bf8-4e6d-c49c-3260b5233539"
   },
   "outputs": [
    {
     "name": "stdout",
     "output_type": "stream",
     "text": [
      "Top 6 similar movies to Muppets Most Wanted (2014) are:\n",
      "\n",
      "The Muppets (2011)\n",
      "Muppet Treasure Island (1996)\n",
      "The Grand Budapest Hotel (2014)\n",
      "Topkapi (1964)\n",
      "The Last Guest (2017)\n",
      "The Great Muppet Caper (1981)\n"
     ]
    }
   ],
   "source": [
    "i=0\n",
    "print(\"Top 6 similar movies to \"+movie_user_likes+\" are:\\n\")\n",
    "for element in sorted_similar_movies:\n",
    "    print(get_title_from_index(element[0]))\n",
    "    i=i+1\n",
    "    if i>5:\n",
    "        break"
   ]
  },
  {
   "cell_type": "code",
   "execution_count": 27,
   "metadata": {
    "colab": {},
    "colab_type": "code",
    "id": "ovV_q_4s2P3e"
   },
   "outputs": [],
   "source": []
  }
 ],
 "metadata": {
  "colab": {
   "collapsed_sections": [],
   "name": "what_to_watch_tool.ipynb",
   "provenance": [],
   "toc_visible": true
  },
  "kernelspec": {
   "display_name": "Python 3",
   "language": "python",
   "name": "python3"
  },
  "language_info": {
   "codemirror_mode": {
    "name": "ipython",
    "version": 3
   },
   "file_extension": ".py",
   "mimetype": "text/x-python",
   "name": "python",
   "nbconvert_exporter": "python",
   "pygments_lexer": "ipython3",
   "version": "3.7.4"
  }
 },
 "nbformat": 4,
 "nbformat_minor": 1
}
